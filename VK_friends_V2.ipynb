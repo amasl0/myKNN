{
  "cells": [
    {
      "cell_type": "markdown",
      "metadata": {
        "id": "view-in-github",
        "colab_type": "text"
      },
      "source": [
        "<a href=\"https://colab.research.google.com/github/amasl0/myKNN/blob/main/VK_friends_V2.ipynb\" target=\"_parent\"><img src=\"https://colab.research.google.com/assets/colab-badge.svg\" alt=\"Open In Colab\"/></a>"
      ]
    },
    {
      "cell_type": "markdown",
      "metadata": {
        "id": "ee3f2adf"
      },
      "source": [
        "### import libraries"
      ],
      "id": "ee3f2adf"
    },
    {
      "cell_type": "code",
      "execution_count": null,
      "metadata": {
        "id": "62257f12",
        "colab": {
          "base_uri": "https://localhost:8080/"
        },
        "outputId": "e0395254-aab3-4a6e-bfc8-dcc54baf2009"
      },
      "outputs": [
        {
          "output_type": "stream",
          "name": "stdout",
          "text": [
            "Drive already mounted at /content/drive; to attempt to forcibly remount, call drive.mount(\"/content/drive\", force_remount=True).\n"
          ]
        }
      ],
      "source": [
        "import pandas as pd\n",
        "import numpy as np\n",
        "import json\n",
        "import requests\n",
        "from tqdm import tqdm\n",
        "import os \n",
        "import networkx as nx\n",
        "import csv\n",
        "import ast\n",
        "from google.colab import drive\n",
        "\n",
        "drive.mount('/content/drive')\n",
        "\n",
        "PATH_STORAGE = '/content/drive/MyDrive/parts'\n",
        "PATH_EXCEPTIONS = '/content/drive/MyDrive/Exceptions'\n",
        "PATH_ALL_PATH = '/content/drive/MyDrive/All_pathes'"
      ],
      "id": "62257f12"
    },
    {
      "cell_type": "markdown",
      "metadata": {
        "id": "dde272f4"
      },
      "source": [
        "### Берём друзей студентов из ВК"
      ],
      "id": "dde272f4"
    },
    {
      "cell_type": "code",
      "source": [
        "lst_group_students = pd.read_csv( '/'.join((PATH_STORAGE ,'firts_level_friends.csv'))).main_id.unique().tolist()"
      ],
      "metadata": {
        "id": "g7HLJkmbTrTa"
      },
      "execution_count": null,
      "outputs": [],
      "id": "g7HLJkmbTrTa"
    },
    {
      "cell_type": "code",
      "execution_count": null,
      "metadata": {
        "id": "a0d66c0c"
      },
      "outputs": [],
      "source": [
        "with open (os.path.join(PATH_STORAGE ,'token.txt'), 'r') as f:\n",
        "    token = str(f.readline())\n",
        "    \n",
        "def getFriend (token, user_id, level_friend):\n",
        "    list_data = []\n",
        "\n",
        "    ## могут быть ошибки из-за некорректного json\n",
        "    response = requests.get(\"https://api.vk.com/method/friends.get\",\n",
        "                        params={\n",
        "                            \"user_id\": user_id,\n",
        "                            \"order\": \"name\",\n",
        "                            \"count\": 10000,\n",
        "                            \"offset\": 0,\n",
        "                             \"fields\": \"nickname\",\n",
        "                            \"access_token\": token,\n",
        "                            \"v\": 5.126,\n",
        "                    }).json()[\"response\"]\n",
        "\n",
        "    if not \"error\" in response.keys():\n",
        "        if response['items'] != None:\n",
        "            for friend in response['items']:\n",
        "                if not \"deactivated\" in friend and friend[\"is_closed\"] != True:\n",
        "                    list_data.append([ user_id, level_friend, friend['id'], friend['first_name'], friend['last_name'] ])\n",
        "    return list_data\n"
      ],
      "id": "a0d66c0c"
    },
    {
      "cell_type": "code",
      "execution_count": null,
      "metadata": {
        "id": "7ded986c"
      },
      "outputs": [],
      "source": [
        "import time\n",
        "\n",
        "al_dic = []\n",
        "\n",
        "## итерируемся по группе\n",
        "for student_id in lst_group_students:\n",
        "    res = getFriend(token, student_id, 1)\n",
        "    if type(res) == list and res != None:\n",
        "        al_dic.extend(res)\n",
        "    time.sleep(0.05)"
      ],
      "id": "7ded986c"
    },
    {
      "cell_type": "code",
      "execution_count": null,
      "metadata": {
        "id": "a00ee800"
      },
      "outputs": [],
      "source": [
        "df_friends = pd.DataFrame(al_dic,columns=['main_id','level_friend','id_friend','first_name','last_name'])"
      ],
      "id": "a00ee800"
    },
    {
      "cell_type": "code",
      "execution_count": null,
      "metadata": {
        "id": "2f998cc5",
        "outputId": "73a4d81c-6641-4191-f390-c5b0e66f5a94",
        "colab": {
          "base_uri": "https://localhost:8080/",
          "height": 424
        }
      },
      "outputs": [
        {
          "output_type": "execute_result",
          "data": {
            "text/plain": [
              "        main_id  level_friend  id_friend first_name   last_name\n",
              "0     181948702             1  442387982      ピンクの雨     カップ・カップ\n",
              "1     181948702             1  581054682         叫张           志\n",
              "2     181948702             1  143779216       Egor    Ruzaikin\n",
              "3     181948702             1  170844725      Elena   Bannikova\n",
              "4     181948702             1  218562377       Geor       Bulop\n",
              "...         ...           ...        ...        ...         ...\n",
              "3026  312616596             1  385947754        Цзо        Женя\n",
              "3027  312616596             1  347822077      Шараф  Нарзуллоев\n",
              "3028  312616596             1  690298174     Шахром     Шарипов\n",
              "3029  312616596             1  474174041       Юрий        Нано\n",
              "3030  312616596             1  295707677       Юсуф    Отабеков\n",
              "\n",
              "[3031 rows x 5 columns]"
            ],
            "text/html": [
              "\n",
              "  <div id=\"df-7d87dbe7-f0c8-4ec3-858d-c2957ff89fd8\">\n",
              "    <div class=\"colab-df-container\">\n",
              "      <div>\n",
              "<style scoped>\n",
              "    .dataframe tbody tr th:only-of-type {\n",
              "        vertical-align: middle;\n",
              "    }\n",
              "\n",
              "    .dataframe tbody tr th {\n",
              "        vertical-align: top;\n",
              "    }\n",
              "\n",
              "    .dataframe thead th {\n",
              "        text-align: right;\n",
              "    }\n",
              "</style>\n",
              "<table border=\"1\" class=\"dataframe\">\n",
              "  <thead>\n",
              "    <tr style=\"text-align: right;\">\n",
              "      <th></th>\n",
              "      <th>main_id</th>\n",
              "      <th>level_friend</th>\n",
              "      <th>id_friend</th>\n",
              "      <th>first_name</th>\n",
              "      <th>last_name</th>\n",
              "    </tr>\n",
              "  </thead>\n",
              "  <tbody>\n",
              "    <tr>\n",
              "      <th>0</th>\n",
              "      <td>181948702</td>\n",
              "      <td>1</td>\n",
              "      <td>442387982</td>\n",
              "      <td>ピンクの雨</td>\n",
              "      <td>カップ・カップ</td>\n",
              "    </tr>\n",
              "    <tr>\n",
              "      <th>1</th>\n",
              "      <td>181948702</td>\n",
              "      <td>1</td>\n",
              "      <td>581054682</td>\n",
              "      <td>叫张</td>\n",
              "      <td>志</td>\n",
              "    </tr>\n",
              "    <tr>\n",
              "      <th>2</th>\n",
              "      <td>181948702</td>\n",
              "      <td>1</td>\n",
              "      <td>143779216</td>\n",
              "      <td>Egor</td>\n",
              "      <td>Ruzaikin</td>\n",
              "    </tr>\n",
              "    <tr>\n",
              "      <th>3</th>\n",
              "      <td>181948702</td>\n",
              "      <td>1</td>\n",
              "      <td>170844725</td>\n",
              "      <td>Elena</td>\n",
              "      <td>Bannikova</td>\n",
              "    </tr>\n",
              "    <tr>\n",
              "      <th>4</th>\n",
              "      <td>181948702</td>\n",
              "      <td>1</td>\n",
              "      <td>218562377</td>\n",
              "      <td>Geor</td>\n",
              "      <td>Bulop</td>\n",
              "    </tr>\n",
              "    <tr>\n",
              "      <th>...</th>\n",
              "      <td>...</td>\n",
              "      <td>...</td>\n",
              "      <td>...</td>\n",
              "      <td>...</td>\n",
              "      <td>...</td>\n",
              "    </tr>\n",
              "    <tr>\n",
              "      <th>3026</th>\n",
              "      <td>312616596</td>\n",
              "      <td>1</td>\n",
              "      <td>385947754</td>\n",
              "      <td>Цзо</td>\n",
              "      <td>Женя</td>\n",
              "    </tr>\n",
              "    <tr>\n",
              "      <th>3027</th>\n",
              "      <td>312616596</td>\n",
              "      <td>1</td>\n",
              "      <td>347822077</td>\n",
              "      <td>Шараф</td>\n",
              "      <td>Нарзуллоев</td>\n",
              "    </tr>\n",
              "    <tr>\n",
              "      <th>3028</th>\n",
              "      <td>312616596</td>\n",
              "      <td>1</td>\n",
              "      <td>690298174</td>\n",
              "      <td>Шахром</td>\n",
              "      <td>Шарипов</td>\n",
              "    </tr>\n",
              "    <tr>\n",
              "      <th>3029</th>\n",
              "      <td>312616596</td>\n",
              "      <td>1</td>\n",
              "      <td>474174041</td>\n",
              "      <td>Юрий</td>\n",
              "      <td>Нано</td>\n",
              "    </tr>\n",
              "    <tr>\n",
              "      <th>3030</th>\n",
              "      <td>312616596</td>\n",
              "      <td>1</td>\n",
              "      <td>295707677</td>\n",
              "      <td>Юсуф</td>\n",
              "      <td>Отабеков</td>\n",
              "    </tr>\n",
              "  </tbody>\n",
              "</table>\n",
              "<p>3031 rows × 5 columns</p>\n",
              "</div>\n",
              "      <button class=\"colab-df-convert\" onclick=\"convertToInteractive('df-7d87dbe7-f0c8-4ec3-858d-c2957ff89fd8')\"\n",
              "              title=\"Convert this dataframe to an interactive table.\"\n",
              "              style=\"display:none;\">\n",
              "        \n",
              "  <svg xmlns=\"http://www.w3.org/2000/svg\" height=\"24px\"viewBox=\"0 0 24 24\"\n",
              "       width=\"24px\">\n",
              "    <path d=\"M0 0h24v24H0V0z\" fill=\"none\"/>\n",
              "    <path d=\"M18.56 5.44l.94 2.06.94-2.06 2.06-.94-2.06-.94-.94-2.06-.94 2.06-2.06.94zm-11 1L8.5 8.5l.94-2.06 2.06-.94-2.06-.94L8.5 2.5l-.94 2.06-2.06.94zm10 10l.94 2.06.94-2.06 2.06-.94-2.06-.94-.94-2.06-.94 2.06-2.06.94z\"/><path d=\"M17.41 7.96l-1.37-1.37c-.4-.4-.92-.59-1.43-.59-.52 0-1.04.2-1.43.59L10.3 9.45l-7.72 7.72c-.78.78-.78 2.05 0 2.83L4 21.41c.39.39.9.59 1.41.59.51 0 1.02-.2 1.41-.59l7.78-7.78 2.81-2.81c.8-.78.8-2.07 0-2.86zM5.41 20L4 18.59l7.72-7.72 1.47 1.35L5.41 20z\"/>\n",
              "  </svg>\n",
              "      </button>\n",
              "      \n",
              "  <style>\n",
              "    .colab-df-container {\n",
              "      display:flex;\n",
              "      flex-wrap:wrap;\n",
              "      gap: 12px;\n",
              "    }\n",
              "\n",
              "    .colab-df-convert {\n",
              "      background-color: #E8F0FE;\n",
              "      border: none;\n",
              "      border-radius: 50%;\n",
              "      cursor: pointer;\n",
              "      display: none;\n",
              "      fill: #1967D2;\n",
              "      height: 32px;\n",
              "      padding: 0 0 0 0;\n",
              "      width: 32px;\n",
              "    }\n",
              "\n",
              "    .colab-df-convert:hover {\n",
              "      background-color: #E2EBFA;\n",
              "      box-shadow: 0px 1px 2px rgba(60, 64, 67, 0.3), 0px 1px 3px 1px rgba(60, 64, 67, 0.15);\n",
              "      fill: #174EA6;\n",
              "    }\n",
              "\n",
              "    [theme=dark] .colab-df-convert {\n",
              "      background-color: #3B4455;\n",
              "      fill: #D2E3FC;\n",
              "    }\n",
              "\n",
              "    [theme=dark] .colab-df-convert:hover {\n",
              "      background-color: #434B5C;\n",
              "      box-shadow: 0px 1px 3px 1px rgba(0, 0, 0, 0.15);\n",
              "      filter: drop-shadow(0px 1px 2px rgba(0, 0, 0, 0.3));\n",
              "      fill: #FFFFFF;\n",
              "    }\n",
              "  </style>\n",
              "\n",
              "      <script>\n",
              "        const buttonEl =\n",
              "          document.querySelector('#df-7d87dbe7-f0c8-4ec3-858d-c2957ff89fd8 button.colab-df-convert');\n",
              "        buttonEl.style.display =\n",
              "          google.colab.kernel.accessAllowed ? 'block' : 'none';\n",
              "\n",
              "        async function convertToInteractive(key) {\n",
              "          const element = document.querySelector('#df-7d87dbe7-f0c8-4ec3-858d-c2957ff89fd8');\n",
              "          const dataTable =\n",
              "            await google.colab.kernel.invokeFunction('convertToInteractive',\n",
              "                                                     [key], {});\n",
              "          if (!dataTable) return;\n",
              "\n",
              "          const docLinkHtml = 'Like what you see? Visit the ' +\n",
              "            '<a target=\"_blank\" href=https://colab.research.google.com/notebooks/data_table.ipynb>data table notebook</a>'\n",
              "            + ' to learn more about interactive tables.';\n",
              "          element.innerHTML = '';\n",
              "          dataTable['output_type'] = 'display_data';\n",
              "          await google.colab.output.renderOutput(dataTable, element);\n",
              "          const docLink = document.createElement('div');\n",
              "          docLink.innerHTML = docLinkHtml;\n",
              "          element.appendChild(docLink);\n",
              "        }\n",
              "      </script>\n",
              "    </div>\n",
              "  </div>\n",
              "  "
            ]
          },
          "metadata": {},
          "execution_count": 24
        }
      ],
      "source": [
        "df_friends"
      ],
      "id": "2f998cc5"
    },
    {
      "cell_type": "code",
      "source": [
        "## удаляем существующие части в parts, если они существуют\n",
        "\n",
        "if len(os.listdir(PATH_STORAGE)) != 0:\n",
        "    for filename in os.listdir(PATH_STORAGE):\n",
        "        if 'part' in filename:\n",
        "            os.remove(os.path.join(PATH_STORAGE, filename) ) "
      ],
      "metadata": {
        "id": "1UlWgcmladng",
        "colab": {
          "base_uri": "https://localhost:8080/"
        },
        "outputId": "501c81d4-4609-4cc3-d191-eb2118d5ca43"
      },
      "id": "1UlWgcmladng",
      "execution_count": null,
      "outputs": [
        {
          "output_type": "stream",
          "name": "stdout",
          "text": [
            "29\n"
          ]
        }
      ]
    },
    {
      "cell_type": "code",
      "execution_count": null,
      "metadata": {
        "id": "e1229213",
        "outputId": "11ad6c13-6ee7-41ae-b7a5-57c58d03e3af",
        "colab": {
          "base_uri": "https://localhost:8080/"
        }
      },
      "outputs": [
        {
          "output_type": "stream",
          "name": "stderr",
          "text": [
            "100%|██████████| 3022/3022 [48:10<00:00,  1.05it/s]\n"
          ]
        }
      ],
      "source": [
        "al_dic = []\n",
        "df_second_friends = pd.DataFrame()\n",
        "counter = 0\n",
        "\n",
        "for tup in tqdm(df_friends.itertuples(), total=df_friends.shape[0]):\n",
        "    try:\n",
        "        res = getFriend(token, tup.id_friend, 2)\n",
        "    except:\n",
        "        ## если обнаружились ошибки чтении json, запишем в файл для анализа\n",
        "        error_response = requests.get(\"https://api.vk.com/method/friends.get\",\n",
        "                    params={\n",
        "                            \"user_id\": tup.id_friend,\n",
        "                            \"order\": \"name\",\n",
        "                            \"count\": 10000,\n",
        "                            \"offset\": 0,\n",
        "                             \"fields\": \"nickname\",\n",
        "                            \"access_token\": token,\n",
        "                            \"v\": 5.126,\n",
        "                    })\n",
        "        with open( \n",
        "            os.path.join(PATH_EXCEPTIONS, f'exception-{counter}.txt')\n",
        "            , 'w') as except_manager:\n",
        "            except_manager.write(str(error_response.text))\n",
        "        continue\n",
        "\n",
        "    if type(res) == list and res != None:\n",
        "        al_dic.extend(res)\n",
        "    time.sleep(0.05)\n",
        "    \n",
        "    if len(al_dic) > 100000:\n",
        "        pd.DataFrame(al_dic, \n",
        "                     columns=['main_id','level_friend','id_friend','first_name','last_name']\n",
        "                ).to_csv(os.path.join(PATH_STORAGE, f'part-{counter}.csv'), index=False)\n",
        "        counter += 1\n",
        "        al_dic.clear()\n",
        "\n",
        "## Сохранение остатка\n",
        "\n",
        "pd.DataFrame(\n",
        "    al_dic, columns=[\n",
        "        'main_id','level_friend','id_friend','first_name','last_name']\n",
        "    ).to_csv(os.path.join(PATH_STORAGE, f'part-{counter}.csv'), index=False)"
      ],
      "id": "e1229213"
    },
    {
      "cell_type": "markdown",
      "metadata": {
        "id": "vtOpPlthwe4t"
      },
      "source": [
        "### Объединяем все части в один dataframe"
      ],
      "id": "vtOpPlthwe4t"
    },
    {
      "cell_type": "code",
      "execution_count": null,
      "metadata": {
        "id": "_u7X9dNaz65K"
      },
      "outputs": [],
      "source": [
        "for part in os.listdir(PATH_STORAGE):\n",
        "    if part[-4:] == '.csv' and 'part' in part:\n",
        "        df_friends = df_friends.append( pd.read_csv(  os.path.join( PATH_STORAGE, part )  ) )"
      ],
      "id": "_u7X9dNaz65K"
    },
    {
      "cell_type": "code",
      "execution_count": null,
      "metadata": {
        "id": "oKIyTGb90GHV"
      },
      "outputs": [],
      "source": [
        "df_friends = df_friends.drop_duplicates()"
      ],
      "id": "oKIyTGb90GHV"
    },
    {
      "cell_type": "code",
      "execution_count": null,
      "metadata": {
        "id": "wrlIaKbM09sg",
        "colab": {
          "base_uri": "https://localhost:8080/",
          "height": 424
        },
        "outputId": "60d4ad79-ee4e-426e-92c7-8042ebdb329e"
      },
      "outputs": [
        {
          "output_type": "execute_result",
          "data": {
            "text/plain": [
              "         main_id  level_friend  id_friend first_name  last_name\n",
              "0      181948702             1  442387982      ピンクの雨    カップ・カップ\n",
              "1      181948702             1  581054682         叫张          志\n",
              "2      181948702             1  143779216       Egor   Ruzaikin\n",
              "3      181948702             1  170844725      Elena  Bannikova\n",
              "4      181948702             1  218562377       Geor      Bulop\n",
              "...          ...           ...        ...        ...        ...\n",
              "40303  295707677             2  359769196     Шахром     Аминов\n",
              "40304  295707677             2  312616596      Шохин    Гулямов\n",
              "40305  295707677             2  261840457     Шохрух    Сидиков\n",
              "40306  295707677             2  468207716        Эди    Назаров\n",
              "40307  295707677             2  379093966     Эльмар   Гюлалыев\n",
              "\n",
              "[2540407 rows x 5 columns]"
            ],
            "text/html": [
              "\n",
              "  <div id=\"df-500c2326-2e19-4ce3-bdb8-761e354dd9f9\">\n",
              "    <div class=\"colab-df-container\">\n",
              "      <div>\n",
              "<style scoped>\n",
              "    .dataframe tbody tr th:only-of-type {\n",
              "        vertical-align: middle;\n",
              "    }\n",
              "\n",
              "    .dataframe tbody tr th {\n",
              "        vertical-align: top;\n",
              "    }\n",
              "\n",
              "    .dataframe thead th {\n",
              "        text-align: right;\n",
              "    }\n",
              "</style>\n",
              "<table border=\"1\" class=\"dataframe\">\n",
              "  <thead>\n",
              "    <tr style=\"text-align: right;\">\n",
              "      <th></th>\n",
              "      <th>main_id</th>\n",
              "      <th>level_friend</th>\n",
              "      <th>id_friend</th>\n",
              "      <th>first_name</th>\n",
              "      <th>last_name</th>\n",
              "    </tr>\n",
              "  </thead>\n",
              "  <tbody>\n",
              "    <tr>\n",
              "      <th>0</th>\n",
              "      <td>181948702</td>\n",
              "      <td>1</td>\n",
              "      <td>442387982</td>\n",
              "      <td>ピンクの雨</td>\n",
              "      <td>カップ・カップ</td>\n",
              "    </tr>\n",
              "    <tr>\n",
              "      <th>1</th>\n",
              "      <td>181948702</td>\n",
              "      <td>1</td>\n",
              "      <td>581054682</td>\n",
              "      <td>叫张</td>\n",
              "      <td>志</td>\n",
              "    </tr>\n",
              "    <tr>\n",
              "      <th>2</th>\n",
              "      <td>181948702</td>\n",
              "      <td>1</td>\n",
              "      <td>143779216</td>\n",
              "      <td>Egor</td>\n",
              "      <td>Ruzaikin</td>\n",
              "    </tr>\n",
              "    <tr>\n",
              "      <th>3</th>\n",
              "      <td>181948702</td>\n",
              "      <td>1</td>\n",
              "      <td>170844725</td>\n",
              "      <td>Elena</td>\n",
              "      <td>Bannikova</td>\n",
              "    </tr>\n",
              "    <tr>\n",
              "      <th>4</th>\n",
              "      <td>181948702</td>\n",
              "      <td>1</td>\n",
              "      <td>218562377</td>\n",
              "      <td>Geor</td>\n",
              "      <td>Bulop</td>\n",
              "    </tr>\n",
              "    <tr>\n",
              "      <th>...</th>\n",
              "      <td>...</td>\n",
              "      <td>...</td>\n",
              "      <td>...</td>\n",
              "      <td>...</td>\n",
              "      <td>...</td>\n",
              "    </tr>\n",
              "    <tr>\n",
              "      <th>40303</th>\n",
              "      <td>295707677</td>\n",
              "      <td>2</td>\n",
              "      <td>359769196</td>\n",
              "      <td>Шахром</td>\n",
              "      <td>Аминов</td>\n",
              "    </tr>\n",
              "    <tr>\n",
              "      <th>40304</th>\n",
              "      <td>295707677</td>\n",
              "      <td>2</td>\n",
              "      <td>312616596</td>\n",
              "      <td>Шохин</td>\n",
              "      <td>Гулямов</td>\n",
              "    </tr>\n",
              "    <tr>\n",
              "      <th>40305</th>\n",
              "      <td>295707677</td>\n",
              "      <td>2</td>\n",
              "      <td>261840457</td>\n",
              "      <td>Шохрух</td>\n",
              "      <td>Сидиков</td>\n",
              "    </tr>\n",
              "    <tr>\n",
              "      <th>40306</th>\n",
              "      <td>295707677</td>\n",
              "      <td>2</td>\n",
              "      <td>468207716</td>\n",
              "      <td>Эди</td>\n",
              "      <td>Назаров</td>\n",
              "    </tr>\n",
              "    <tr>\n",
              "      <th>40307</th>\n",
              "      <td>295707677</td>\n",
              "      <td>2</td>\n",
              "      <td>379093966</td>\n",
              "      <td>Эльмар</td>\n",
              "      <td>Гюлалыев</td>\n",
              "    </tr>\n",
              "  </tbody>\n",
              "</table>\n",
              "<p>2540407 rows × 5 columns</p>\n",
              "</div>\n",
              "      <button class=\"colab-df-convert\" onclick=\"convertToInteractive('df-500c2326-2e19-4ce3-bdb8-761e354dd9f9')\"\n",
              "              title=\"Convert this dataframe to an interactive table.\"\n",
              "              style=\"display:none;\">\n",
              "        \n",
              "  <svg xmlns=\"http://www.w3.org/2000/svg\" height=\"24px\"viewBox=\"0 0 24 24\"\n",
              "       width=\"24px\">\n",
              "    <path d=\"M0 0h24v24H0V0z\" fill=\"none\"/>\n",
              "    <path d=\"M18.56 5.44l.94 2.06.94-2.06 2.06-.94-2.06-.94-.94-2.06-.94 2.06-2.06.94zm-11 1L8.5 8.5l.94-2.06 2.06-.94-2.06-.94L8.5 2.5l-.94 2.06-2.06.94zm10 10l.94 2.06.94-2.06 2.06-.94-2.06-.94-.94-2.06-.94 2.06-2.06.94z\"/><path d=\"M17.41 7.96l-1.37-1.37c-.4-.4-.92-.59-1.43-.59-.52 0-1.04.2-1.43.59L10.3 9.45l-7.72 7.72c-.78.78-.78 2.05 0 2.83L4 21.41c.39.39.9.59 1.41.59.51 0 1.02-.2 1.41-.59l7.78-7.78 2.81-2.81c.8-.78.8-2.07 0-2.86zM5.41 20L4 18.59l7.72-7.72 1.47 1.35L5.41 20z\"/>\n",
              "  </svg>\n",
              "      </button>\n",
              "      \n",
              "  <style>\n",
              "    .colab-df-container {\n",
              "      display:flex;\n",
              "      flex-wrap:wrap;\n",
              "      gap: 12px;\n",
              "    }\n",
              "\n",
              "    .colab-df-convert {\n",
              "      background-color: #E8F0FE;\n",
              "      border: none;\n",
              "      border-radius: 50%;\n",
              "      cursor: pointer;\n",
              "      display: none;\n",
              "      fill: #1967D2;\n",
              "      height: 32px;\n",
              "      padding: 0 0 0 0;\n",
              "      width: 32px;\n",
              "    }\n",
              "\n",
              "    .colab-df-convert:hover {\n",
              "      background-color: #E2EBFA;\n",
              "      box-shadow: 0px 1px 2px rgba(60, 64, 67, 0.3), 0px 1px 3px 1px rgba(60, 64, 67, 0.15);\n",
              "      fill: #174EA6;\n",
              "    }\n",
              "\n",
              "    [theme=dark] .colab-df-convert {\n",
              "      background-color: #3B4455;\n",
              "      fill: #D2E3FC;\n",
              "    }\n",
              "\n",
              "    [theme=dark] .colab-df-convert:hover {\n",
              "      background-color: #434B5C;\n",
              "      box-shadow: 0px 1px 3px 1px rgba(0, 0, 0, 0.15);\n",
              "      filter: drop-shadow(0px 1px 2px rgba(0, 0, 0, 0.3));\n",
              "      fill: #FFFFFF;\n",
              "    }\n",
              "  </style>\n",
              "\n",
              "      <script>\n",
              "        const buttonEl =\n",
              "          document.querySelector('#df-500c2326-2e19-4ce3-bdb8-761e354dd9f9 button.colab-df-convert');\n",
              "        buttonEl.style.display =\n",
              "          google.colab.kernel.accessAllowed ? 'block' : 'none';\n",
              "\n",
              "        async function convertToInteractive(key) {\n",
              "          const element = document.querySelector('#df-500c2326-2e19-4ce3-bdb8-761e354dd9f9');\n",
              "          const dataTable =\n",
              "            await google.colab.kernel.invokeFunction('convertToInteractive',\n",
              "                                                     [key], {});\n",
              "          if (!dataTable) return;\n",
              "\n",
              "          const docLinkHtml = 'Like what you see? Visit the ' +\n",
              "            '<a target=\"_blank\" href=https://colab.research.google.com/notebooks/data_table.ipynb>data table notebook</a>'\n",
              "            + ' to learn more about interactive tables.';\n",
              "          element.innerHTML = '';\n",
              "          dataTable['output_type'] = 'display_data';\n",
              "          await google.colab.output.renderOutput(dataTable, element);\n",
              "          const docLink = document.createElement('div');\n",
              "          docLink.innerHTML = docLinkHtml;\n",
              "          element.appendChild(docLink);\n",
              "        }\n",
              "      </script>\n",
              "    </div>\n",
              "  </div>\n",
              "  "
            ]
          },
          "metadata": {},
          "execution_count": 27
        }
      ],
      "source": [
        "df_friends"
      ],
      "id": "wrlIaKbM09sg"
    },
    {
      "cell_type": "markdown",
      "metadata": {
        "id": "rLNwOGvZ1WM7"
      },
      "source": [
        "### Делаем граф в networkx"
      ],
      "id": "rLNwOGvZ1WM7"
    },
    {
      "cell_type": "code",
      "execution_count": null,
      "metadata": {
        "id": "MDUMrCy31VOQ"
      },
      "outputs": [],
      "source": [
        "G = nx.Graph()"
      ],
      "id": "MDUMrCy31VOQ"
    },
    {
      "cell_type": "code",
      "execution_count": null,
      "metadata": {
        "id": "6KZRx04o1pMF"
      },
      "outputs": [],
      "source": [
        "### нужно узнать id уникальных пользователей\n",
        "## добавляем вершины графа\n",
        "G.add_nodes_from(set( df_friends['main_id'].unique()) | set(df_friends['id_friend'].unique()))\n",
        "G.add_edges_from( list(df_friends[['main_id', 'id_friend']].itertuples(index=False, name=None)) )"
      ],
      "id": "6KZRx04o1pMF"
    },
    {
      "cell_type": "markdown",
      "source": [
        "### Степень центральности по посредничеству"
      ],
      "metadata": {
        "id": "F82xM4J1ElnK"
      },
      "id": "F82xM4J1ElnK"
    },
    {
      "cell_type": "code",
      "source": [
        "## удаляем существующие части в parts\n",
        "# for filename in os.listdir(PATH_ALL_PATH):\n",
        "#     if 'part' in filename:\n",
        "#         os.remove(os.path.join(PATH_ALL_PATH, filename) ) "
      ],
      "metadata": {
        "id": "nTb9AnwM1fER"
      },
      "id": "nTb9AnwM1fER",
      "execution_count": null,
      "outputs": []
    },
    {
      "cell_type": "code",
      "source": [
        "pathes = []\n",
        "\n",
        "counter_parts = 0\n",
        "\n",
        "for student_id in lst_group_students:\n",
        "    for friends_id in tqdm(set(G.nodes) - set([student_id])):\n",
        "        path = nx.shortest_path(G, source=student_id, target=friends_id)\n",
        "        if len(pathes) > 100000:\n",
        "            with open( os.path.join(PATH_ALL_PATH, f'part-{counter_parts}.txt'), \"w\") as fb:\n",
        "                fb.write(str(pathes))\n",
        "                counter_parts += 1\n",
        "                pathes.clear()\n",
        "        pathes.append(path)\n",
        "\n",
        "with open( os.path.join(PATH_ALL_PATH, f'part-{counter_parts}.txt'), \"w\") as fb:\n",
        "    fb.write(str(pathes))\n",
        "    pathes.clear()"
      ],
      "metadata": {
        "id": "UuDLIW-z6Gtg",
        "colab": {
          "base_uri": "https://localhost:8080/"
        },
        "outputId": "b12ce2a6-ecda-4cca-de4d-22ed5e04b563"
      },
      "id": "UuDLIW-z6Gtg",
      "execution_count": null,
      "outputs": [
        {
          "output_type": "stream",
          "name": "stderr",
          "text": [
            " 18%|█▊        | 188024/1043062 [08:11<31:46, 448.43it/s]"
          ]
        }
      ]
    },
    {
      "cell_type": "code",
      "source": [
        "count_nodes = len(G.nodes)\n",
        "dict_closeoness = {}\n",
        "\n",
        "## анализируем каждый файл и подсчитываем элементы\n",
        "for filename in tqdm(os.listdir(PATH_ALL_PATH)):\n",
        "    if filename.split('.')[-1] != 'txt':\n",
        "        continue\n",
        "    with open(os.path.join(PATH_ALL_PATH, filename), \"r\") as reader:\n",
        "        pathes = ast.literal_eval(reader.read())\n",
        "        \n",
        "    for path in pathes:\n",
        "        ## if exist\n",
        "        if path[0] in dict_closeoness:\n",
        "            dict_closeoness[path[0]] += len(path[1:-1])\n",
        "        else:\n",
        "            dict_closeoness[path[0]] = len(path[1:-1])"
      ],
      "metadata": {
        "colab": {
          "base_uri": "https://localhost:8080/"
        },
        "id": "fwCYwwa5LMPl",
        "outputId": "0e1dc13c-0688-461e-a57d-7ca656e6792e"
      },
      "id": "fwCYwwa5LMPl",
      "execution_count": null,
      "outputs": [
        {
          "output_type": "stream",
          "name": "stderr",
          "text": [
            "100%|██████████| 174/174 [17:14<00:00,  5.95s/it]\n"
          ]
        }
      ]
    },
    {
      "cell_type": "code",
      "source": [
        "res_close = {}\n",
        "\n",
        "for key in dict_closeoness:\n",
        "    res_close[key] = count_nodes / dict_closeoness[key]\n",
        "\n",
        "sorted_dict = {}\n",
        "\n",
        "for w in sorted(res_close, key=res_close.get, reverse=True) :\n",
        "    sorted_dict[w] = res_close[w]\n",
        "\n",
        "df_friends.loc[(\n",
        "            df_friends.id_friend ==\n",
        "                    list(sorted_dict)[0]\n",
        "                ), ['first_name', 'last_name']\n",
        "         ].head(1)"
      ],
      "metadata": {
        "colab": {
          "base_uri": "https://localhost:8080/",
          "height": 81
        },
        "id": "8m_JRqaIRCEM",
        "outputId": "cc85f92b-ae55-4250-f7be-fdd603850f79"
      },
      "id": "8m_JRqaIRCEM",
      "execution_count": null,
      "outputs": [
        {
          "output_type": "execute_result",
          "data": {
            "text/plain": [
              "    first_name  last_name\n",
              "786     Михаил  Никифоров"
            ],
            "text/html": [
              "\n",
              "  <div id=\"df-26a3a747-80ae-4103-beb5-3d8e03dcee7f\">\n",
              "    <div class=\"colab-df-container\">\n",
              "      <div>\n",
              "<style scoped>\n",
              "    .dataframe tbody tr th:only-of-type {\n",
              "        vertical-align: middle;\n",
              "    }\n",
              "\n",
              "    .dataframe tbody tr th {\n",
              "        vertical-align: top;\n",
              "    }\n",
              "\n",
              "    .dataframe thead th {\n",
              "        text-align: right;\n",
              "    }\n",
              "</style>\n",
              "<table border=\"1\" class=\"dataframe\">\n",
              "  <thead>\n",
              "    <tr style=\"text-align: right;\">\n",
              "      <th></th>\n",
              "      <th>first_name</th>\n",
              "      <th>last_name</th>\n",
              "    </tr>\n",
              "  </thead>\n",
              "  <tbody>\n",
              "    <tr>\n",
              "      <th>786</th>\n",
              "      <td>Михаил</td>\n",
              "      <td>Никифоров</td>\n",
              "    </tr>\n",
              "  </tbody>\n",
              "</table>\n",
              "</div>\n",
              "      <button class=\"colab-df-convert\" onclick=\"convertToInteractive('df-26a3a747-80ae-4103-beb5-3d8e03dcee7f')\"\n",
              "              title=\"Convert this dataframe to an interactive table.\"\n",
              "              style=\"display:none;\">\n",
              "        \n",
              "  <svg xmlns=\"http://www.w3.org/2000/svg\" height=\"24px\"viewBox=\"0 0 24 24\"\n",
              "       width=\"24px\">\n",
              "    <path d=\"M0 0h24v24H0V0z\" fill=\"none\"/>\n",
              "    <path d=\"M18.56 5.44l.94 2.06.94-2.06 2.06-.94-2.06-.94-.94-2.06-.94 2.06-2.06.94zm-11 1L8.5 8.5l.94-2.06 2.06-.94-2.06-.94L8.5 2.5l-.94 2.06-2.06.94zm10 10l.94 2.06.94-2.06 2.06-.94-2.06-.94-.94-2.06-.94 2.06-2.06.94z\"/><path d=\"M17.41 7.96l-1.37-1.37c-.4-.4-.92-.59-1.43-.59-.52 0-1.04.2-1.43.59L10.3 9.45l-7.72 7.72c-.78.78-.78 2.05 0 2.83L4 21.41c.39.39.9.59 1.41.59.51 0 1.02-.2 1.41-.59l7.78-7.78 2.81-2.81c.8-.78.8-2.07 0-2.86zM5.41 20L4 18.59l7.72-7.72 1.47 1.35L5.41 20z\"/>\n",
              "  </svg>\n",
              "      </button>\n",
              "      \n",
              "  <style>\n",
              "    .colab-df-container {\n",
              "      display:flex;\n",
              "      flex-wrap:wrap;\n",
              "      gap: 12px;\n",
              "    }\n",
              "\n",
              "    .colab-df-convert {\n",
              "      background-color: #E8F0FE;\n",
              "      border: none;\n",
              "      border-radius: 50%;\n",
              "      cursor: pointer;\n",
              "      display: none;\n",
              "      fill: #1967D2;\n",
              "      height: 32px;\n",
              "      padding: 0 0 0 0;\n",
              "      width: 32px;\n",
              "    }\n",
              "\n",
              "    .colab-df-convert:hover {\n",
              "      background-color: #E2EBFA;\n",
              "      box-shadow: 0px 1px 2px rgba(60, 64, 67, 0.3), 0px 1px 3px 1px rgba(60, 64, 67, 0.15);\n",
              "      fill: #174EA6;\n",
              "    }\n",
              "\n",
              "    [theme=dark] .colab-df-convert {\n",
              "      background-color: #3B4455;\n",
              "      fill: #D2E3FC;\n",
              "    }\n",
              "\n",
              "    [theme=dark] .colab-df-convert:hover {\n",
              "      background-color: #434B5C;\n",
              "      box-shadow: 0px 1px 3px 1px rgba(0, 0, 0, 0.15);\n",
              "      filter: drop-shadow(0px 1px 2px rgba(0, 0, 0, 0.3));\n",
              "      fill: #FFFFFF;\n",
              "    }\n",
              "  </style>\n",
              "\n",
              "      <script>\n",
              "        const buttonEl =\n",
              "          document.querySelector('#df-26a3a747-80ae-4103-beb5-3d8e03dcee7f button.colab-df-convert');\n",
              "        buttonEl.style.display =\n",
              "          google.colab.kernel.accessAllowed ? 'block' : 'none';\n",
              "\n",
              "        async function convertToInteractive(key) {\n",
              "          const element = document.querySelector('#df-26a3a747-80ae-4103-beb5-3d8e03dcee7f');\n",
              "          const dataTable =\n",
              "            await google.colab.kernel.invokeFunction('convertToInteractive',\n",
              "                                                     [key], {});\n",
              "          if (!dataTable) return;\n",
              "\n",
              "          const docLinkHtml = 'Like what you see? Visit the ' +\n",
              "            '<a target=\"_blank\" href=https://colab.research.google.com/notebooks/data_table.ipynb>data table notebook</a>'\n",
              "            + ' to learn more about interactive tables.';\n",
              "          element.innerHTML = '';\n",
              "          dataTable['output_type'] = 'display_data';\n",
              "          await google.colab.output.renderOutput(dataTable, element);\n",
              "          const docLink = document.createElement('div');\n",
              "          docLink.innerHTML = docLinkHtml;\n",
              "          element.appendChild(docLink);\n",
              "        }\n",
              "      </script>\n",
              "    </div>\n",
              "  </div>\n",
              "  "
            ]
          },
          "metadata": {},
          "execution_count": 48
        }
      ]
    }
  ],
  "metadata": {
    "colab": {
      "provenance": [],
      "collapsed_sections": [],
      "include_colab_link": true
    },
    "kernelspec": {
      "display_name": "Python 3",
      "language": "python",
      "name": "python3"
    },
    "language_info": {
      "codemirror_mode": {
        "name": "ipython",
        "version": 3
      },
      "file_extension": ".py",
      "mimetype": "text/x-python",
      "name": "python",
      "nbconvert_exporter": "python",
      "pygments_lexer": "ipython3",
      "version": "3.7.5"
    },
    "accelerator": "TPU",
    "gpuClass": "standard"
  },
  "nbformat": 4,
  "nbformat_minor": 5
}