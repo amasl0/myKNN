{
  "cells": [
    {
      "cell_type": "markdown",
      "metadata": {
        "id": "view-in-github",
        "colab_type": "text"
      },
      "source": [
        "<a href=\"https://colab.research.google.com/github/amasl0/myKNN/blob/main/VK_friends.ipynb\" target=\"_parent\"><img src=\"https://colab.research.google.com/assets/colab-badge.svg\" alt=\"Open In Colab\"/></a>"
      ]
    },
    {
      "cell_type": "markdown",
      "metadata": {
        "id": "ee3f2adf"
      },
      "source": [
        "### import libraries"
      ],
      "id": "ee3f2adf"
    },
    {
      "cell_type": "code",
      "execution_count": 2,
      "metadata": {
        "id": "62257f12"
      },
      "outputs": [],
      "source": [
        "import pandas as pd\n",
        "import numpy as np\n",
        "import json\n",
        "import requests\n",
        "from tqdm import tqdm\n",
        "import os \n",
        "import networkx as nx\n",
        "import csv"
      ],
      "id": "62257f12"
    },
    {
      "cell_type": "markdown",
      "metadata": {
        "id": "8931c5a6"
      },
      "source": [
        "### Берём у группы их vk_id"
      ],
      "id": "8931c5a6"
    },
    {
      "cell_type": "raw",
      "metadata": {
        "id": "d22803f5"
      },
      "source": [
        "'''\n",
        "JS код, чтобы взять ссылки на студентов группы:\n",
        "\n",
        "list = document.getElementsByClassName(\"Link\");\n",
        "\n",
        "ll = [];\n",
        "\n",
        "for (i = 1; i < list.length; i++){\n",
        "    ll.push(list[i].href);\n",
        "}\n",
        "\n",
        "JSON.stringify(ll)\n",
        "'''"
      ],
      "id": "d22803f5"
    },
    {
      "cell_type": "code",
      "execution_count": null,
      "metadata": {
        "id": "38766c25"
      },
      "outputs": [],
      "source": [
        "json_dict = json.loads('[\"h ttps://vk.com/amaslo0\",\"https://vk.com/dmitriy_mishka\",\"https://vk.com/zvfrc\",\"https://vk.com/ruzakovskiy\",\"https://vk.com/shis_213\",\"https://vk.com/space1engine\",\"https://vk.com/zannazz\",\"https://vk.com/spymsx1337\",\"https://vk.com/ja2018ck\",\"https://vk.com/m_nkfrv\",\"https://vk.com/renchiqq\",\"https://vk.com/0x51c\",\"https://vk.com/ricktusempra\",\"https://vk.com/nikita.starling\",\"https://vk.com/vladtopchu\",\"https://vk.com/weaklyzxc\",\"https://vk.com/disdinortimy028484892\",\"https://vk.com/gendorosan\",\"https://vk.com/id323208790\",\"https://vk.com/id173792332\",\"https://vk.com/semendyaevv\",\"https://vk.com/nikitagabov\",\"https://vk.com/i_need_more_dragons\",\"https://vk.com/id338686058\",\"https://vk.com/shoh0107\"]') "
      ],
      "id": "38766c25"
    },
    {
      "cell_type": "code",
      "execution_count": null,
      "metadata": {
        "id": "d59ccb3f"
      },
      "outputs": [],
      "source": [
        "list_students = []\n",
        "\n",
        "with open('Students.txt', 'r') as f:\n",
        "    text = f.read()\n",
        "    text = text.replace(' ', '').split('\\n')\n",
        "    list_students = [ [text[ix],text[ix+1], text[ix+2], text[ix+3]] for ix in range(0,len(text), 4)]"
      ],
      "id": "d59ccb3f"
    },
    {
      "cell_type": "code",
      "execution_count": null,
      "metadata": {
        "id": "cd1dad83",
        "outputId": "c6116a90-b15c-40e1-90fb-047d3e12669c"
      },
      "outputs": [
        {
          "data": {
            "text/plain": [
              "[['https://vk.com/amaslo0', '181948702', 'Андрей', 'Маслов'],\n",
              " ['https://vk.com/dmitriy_mishka', '154308430', 'Дмитрий', 'Медведев'],\n",
              " ['https://vk.com/zvfrc', '152087036', 'Максим', 'Зуенко'],\n",
              " ['https://vk.com/ruzakovskiy', '143779216', 'Егор', 'Рузайкин'],\n",
              " ['https://vk.com/shis_213', '185215592', 'Ильяс', 'Шакиров'],\n",
              " ['https://vk.com/space1engine', '161594007', 'Максим', 'Михеев'],\n",
              " ['https://vk.com/zannazz', '472583599', 'Анна', 'Зайцева'],\n",
              " ['https://vk.com/spymsx1337', '113001678', 'Максим', 'Марголин'],\n",
              " ['https://vk.com/ja2018ck', '183648122', 'Евгений', 'Малиновский'],\n",
              " ['https://vk.com/m_nkfrv', '196404046', 'Михаил', 'Никифоров'],\n",
              " ['https://vk.com/renchiqq', '85770676', 'Ринат', 'Галямшин'],\n",
              " ['https://vk.com/0x51c', '355133495', 'Влад', 'Минаев'],\n",
              " ['https://vk.com/ricktusempra', '137872152', 'Андрей', 'Форшаков'],\n",
              " ['https://vk.com/nikita.starling', '102711908', 'Никита', 'Скворцов'],\n",
              " ['https://vk.com/vladtopchu', '126568936', 'Влад', 'Топчу'],\n",
              " ['https://vk.com/weaklyzxc', '507184348', 'Олег', 'Стенякин'],\n",
              " ['https://vk.com/disdinortimy028484892', '458357505', 'Иван', 'Соловьев'],\n",
              " ['https://vk.com/gendorosan', '131765293', 'Геннадий', 'Скакодуб'],\n",
              " ['https://vk.com/id323208790', '323208790', 'Георгий', 'Цеквава'],\n",
              " ['https://vk.com/id173792332', '173792332', 'Леонид', 'Логинов'],\n",
              " ['https://vk.com/semendyaevv', '343410069', 'Алексей', 'Семендяев'],\n",
              " ['https://vk.com/nikitagabov', '346034855', 'Никита', 'Габов'],\n",
              " ['https://vk.com/i_need_more_dragons', '255053910', 'Сергей', 'Шутько'],\n",
              " ['https://vk.com/id338686058', '338686058', 'Руслан', 'Чкадуа'],\n",
              " ['https://vk.com/shoh0107', '312616596', 'Шохин', 'Гулямов']]"
            ]
          },
          "execution_count": 3,
          "metadata": {},
          "output_type": "execute_result"
        }
      ],
      "source": [
        "list_students"
      ],
      "id": "cd1dad83"
    },
    {
      "cell_type": "code",
      "execution_count": null,
      "metadata": {
        "id": "669fcc66"
      },
      "outputs": [],
      "source": [
        "df_group_students = pd.DataFrame()"
      ],
      "id": "669fcc66"
    },
    {
      "cell_type": "code",
      "execution_count": null,
      "metadata": {
        "id": "18f77e6a"
      },
      "outputs": [],
      "source": [
        "df_group_students = df_group_students.append( list_students, ignore_index=True )"
      ],
      "id": "18f77e6a"
    },
    {
      "cell_type": "code",
      "execution_count": null,
      "metadata": {
        "id": "29aa187f"
      },
      "outputs": [],
      "source": [
        "df_group_students = df_group_students.rename(columns={ 0:'href', 1:'id', 2:'fname', 3:'lname'})"
      ],
      "id": "29aa187f"
    },
    {
      "cell_type": "markdown",
      "metadata": {
        "id": "dde272f4"
      },
      "source": [
        "### Берём друзей студентов из ВК"
      ],
      "id": "dde272f4"
    },
    {
      "cell_type": "code",
      "execution_count": null,
      "metadata": {
        "id": "a0d66c0c"
      },
      "outputs": [],
      "source": [
        "with open ('untitled.txt', 'r') as f:\n",
        "    token = str(f.readline())\n",
        "    \n",
        "def getFriend (token, user_id, level_friend):\n",
        "    list_data = []\n",
        "    try:\n",
        "        list_friend = requests.get(\"https://api.vk.com/method/friends.get\",\n",
        "                        params={\n",
        "                            \"user_id\": user_id,\n",
        "                            \"order\": \"name\",\n",
        "                            \"count\": 5000,\n",
        "                            \"offset\": 0,\n",
        "                             \"fields\": \"nickname\",\n",
        "                            \"access_token\": token,\n",
        "                            \"v\": 5.126,\n",
        "                        }).json()\n",
        "\n",
        "        if not \"error\" in list_friend.keys():\n",
        "            if list_friend[\"response\"]['items'] != None:\n",
        "                list_friend = list_friend['response']['items']\n",
        "                for friend in list_friend:\n",
        "                    if not \"deactivated\" in friend and friend[\"is_closed\"] != True:\n",
        "                        list_data.append([ user_id, level_friend, friend['id'], friend['first_name'], friend['last_name'] ])\n",
        "    except:\n",
        "        return list_data\n",
        "    return list_data\n"
      ],
      "id": "a0d66c0c"
    },
    {
      "cell_type": "code",
      "execution_count": null,
      "metadata": {
        "id": "7ded986c"
      },
      "outputs": [],
      "source": [
        "import time\n",
        "\n",
        "al_dic = []\n",
        "\n",
        "## итерируемся по группе\n",
        "for tup in df_group_students.itertuples():\n",
        "    res = getFriend(token, tup.id, 1)\n",
        "    if type(res) == list and res != None:\n",
        "        al_dic.extend(res)\n",
        "    time.sleep(0.05)"
      ],
      "id": "7ded986c"
    },
    {
      "cell_type": "code",
      "execution_count": null,
      "metadata": {
        "id": "a00ee800"
      },
      "outputs": [],
      "source": [
        "df_friends = pd.DataFrame(al_dic,columns=['main_id','level_friend','id_friend','first_name','last_name'])"
      ],
      "id": "a00ee800"
    },
    {
      "cell_type": "code",
      "execution_count": null,
      "metadata": {
        "id": "2f998cc5",
        "outputId": "d84ade75-0fdd-4de6-e15d-a3850c044755"
      },
      "outputs": [
        {
          "data": {
            "text/html": [
              "<div>\n",
              "<style scoped>\n",
              "    .dataframe tbody tr th:only-of-type {\n",
              "        vertical-align: middle;\n",
              "    }\n",
              "\n",
              "    .dataframe tbody tr th {\n",
              "        vertical-align: top;\n",
              "    }\n",
              "\n",
              "    .dataframe thead th {\n",
              "        text-align: right;\n",
              "    }\n",
              "</style>\n",
              "<table border=\"1\" class=\"dataframe\">\n",
              "  <thead>\n",
              "    <tr style=\"text-align: right;\">\n",
              "      <th></th>\n",
              "      <th>main_id</th>\n",
              "      <th>level_friend</th>\n",
              "      <th>id_friend</th>\n",
              "      <th>first_name</th>\n",
              "      <th>last_name</th>\n",
              "    </tr>\n",
              "  </thead>\n",
              "  <tbody>\n",
              "    <tr>\n",
              "      <th>0</th>\n",
              "      <td>181948702</td>\n",
              "      <td>1</td>\n",
              "      <td>442387982</td>\n",
              "      <td>ピンクの雨</td>\n",
              "      <td>カップ・カップ</td>\n",
              "    </tr>\n",
              "    <tr>\n",
              "      <th>1</th>\n",
              "      <td>181948702</td>\n",
              "      <td>1</td>\n",
              "      <td>581054682</td>\n",
              "      <td>叫张</td>\n",
              "      <td>志</td>\n",
              "    </tr>\n",
              "    <tr>\n",
              "      <th>2</th>\n",
              "      <td>181948702</td>\n",
              "      <td>1</td>\n",
              "      <td>194384429</td>\n",
              "      <td>Alexander</td>\n",
              "      <td>Gerasimov</td>\n",
              "    </tr>\n",
              "    <tr>\n",
              "      <th>3</th>\n",
              "      <td>181948702</td>\n",
              "      <td>1</td>\n",
              "      <td>430679842</td>\n",
              "      <td>Alexander</td>\n",
              "      <td>Rykalin</td>\n",
              "    </tr>\n",
              "    <tr>\n",
              "      <th>4</th>\n",
              "      <td>181948702</td>\n",
              "      <td>1</td>\n",
              "      <td>163473645</td>\n",
              "      <td>Alexander</td>\n",
              "      <td>Tsvetkov</td>\n",
              "    </tr>\n",
              "    <tr>\n",
              "      <th>...</th>\n",
              "      <td>...</td>\n",
              "      <td>...</td>\n",
              "      <td>...</td>\n",
              "      <td>...</td>\n",
              "      <td>...</td>\n",
              "    </tr>\n",
              "    <tr>\n",
              "      <th>2985</th>\n",
              "      <td>312616596</td>\n",
              "      <td>1</td>\n",
              "      <td>358526702</td>\n",
              "      <td>Valya</td>\n",
              "      <td>Novgorodova</td>\n",
              "    </tr>\n",
              "    <tr>\n",
              "      <th>2986</th>\n",
              "      <td>312616596</td>\n",
              "      <td>1</td>\n",
              "      <td>326542225</td>\n",
              "      <td>Vika</td>\n",
              "      <td>Volkanitina</td>\n",
              "    </tr>\n",
              "    <tr>\n",
              "      <th>2987</th>\n",
              "      <td>312616596</td>\n",
              "      <td>1</td>\n",
              "      <td>72207822</td>\n",
              "      <td>Viktor</td>\n",
              "      <td>Melnikov</td>\n",
              "    </tr>\n",
              "    <tr>\n",
              "      <th>2988</th>\n",
              "      <td>312616596</td>\n",
              "      <td>1</td>\n",
              "      <td>474174041</td>\n",
              "      <td>Yury</td>\n",
              "      <td>Nano</td>\n",
              "    </tr>\n",
              "    <tr>\n",
              "      <th>2989</th>\n",
              "      <td>312616596</td>\n",
              "      <td>1</td>\n",
              "      <td>295707677</td>\n",
              "      <td>Yusuf</td>\n",
              "      <td>Otabekov</td>\n",
              "    </tr>\n",
              "  </tbody>\n",
              "</table>\n",
              "<p>2990 rows × 5 columns</p>\n",
              "</div>"
            ],
            "text/plain": [
              "        main_id  level_friend  id_friend first_name    last_name\n",
              "0     181948702             1  442387982      ピンクの雨      カップ・カップ\n",
              "1     181948702             1  581054682         叫张            志\n",
              "2     181948702             1  194384429  Alexander    Gerasimov\n",
              "3     181948702             1  430679842  Alexander      Rykalin\n",
              "4     181948702             1  163473645  Alexander     Tsvetkov\n",
              "...         ...           ...        ...        ...          ...\n",
              "2985  312616596             1  358526702      Valya  Novgorodova\n",
              "2986  312616596             1  326542225       Vika  Volkanitina\n",
              "2987  312616596             1   72207822     Viktor     Melnikov\n",
              "2988  312616596             1  474174041       Yury         Nano\n",
              "2989  312616596             1  295707677      Yusuf     Otabekov\n",
              "\n",
              "[2990 rows x 5 columns]"
            ]
          },
          "execution_count": 10,
          "metadata": {},
          "output_type": "execute_result"
        }
      ],
      "source": [
        "df_friends"
      ],
      "id": "2f998cc5"
    },
    {
      "cell_type": "code",
      "execution_count": null,
      "metadata": {
        "id": "e1229213",
        "outputId": "bd7c7092-2e03-4bf6-af29-e4113ead6879"
      },
      "outputs": [
        {
          "name": "stderr",
          "output_type": "stream",
          "text": [
            "100%|██████████| 2990/2990 [24:05<00:00,  2.07it/s] \n"
          ]
        }
      ],
      "source": [
        "al_dic = []\n",
        "df_second_friends = pd.DataFrame()\n",
        "\n",
        "counter = 0\n",
        "\n",
        "for tup in tqdm(df_friends.itertuples(), total=df_friends.shape[0]):\n",
        "    res = getFriend(token, tup.id_friend, 2)\n",
        "    if type(res) == list and res != None:\n",
        "        al_dic.extend(res)\n",
        "    time.sleep(0.05)\n",
        "    \n",
        "    if len(al_dic) > 100000:\n",
        "        pd.DataFrame(al_dic, columns=['main_id','level_friend','id_friend','first_name','last_name']).to_csv(f'parts/part-{counter}.csv', index=False)\n",
        "        counter += 1\n",
        "        al_dic.clear()"
      ],
      "id": "e1229213"
    },
    {
      "cell_type": "code",
      "execution_count": null,
      "metadata": {
        "id": "757eff66"
      },
      "outputs": [],
      "source": [
        "pd.DataFrame(al_dic, columns=['main_id','level_friend','id_friend','first_name','last_name']).to_csv(f'parts/part-{counter}.csv', index=False)"
      ],
      "id": "757eff66"
    },
    {
      "cell_type": "code",
      "execution_count": null,
      "metadata": {
        "id": "50a539eb",
        "outputId": "4fe46d7d-675e-4a7e-915d-f5fe59a36803"
      },
      "outputs": [
        {
          "data": {
            "text/plain": [
              "24"
            ]
          },
          "execution_count": 14,
          "metadata": {},
          "output_type": "execute_result"
        }
      ],
      "source": [
        "counter"
      ],
      "id": "50a539eb"
    },
    {
      "cell_type": "markdown",
      "metadata": {
        "id": "vtOpPlthwe4t"
      },
      "source": [
        "### Объединяем все части в один dataframe"
      ],
      "id": "vtOpPlthwe4t"
    },
    {
      "cell_type": "code",
      "execution_count": 1,
      "metadata": {
        "colab": {
          "base_uri": "https://localhost:8080/"
        },
        "id": "OAdlAcsjwo1b",
        "outputId": "ac757c2b-4246-4d74-857b-5dc4790ccb46"
      },
      "outputs": [
        {
          "output_type": "stream",
          "name": "stdout",
          "text": [
            "Mounted at /content/drive\n"
          ]
        }
      ],
      "source": [
        "from google.colab import drive\n",
        "drive.mount('/content/drive')"
      ],
      "id": "OAdlAcsjwo1b"
    },
    {
      "cell_type": "code",
      "execution_count": 3,
      "metadata": {
        "id": "ba9205d5"
      },
      "outputs": [],
      "source": [
        "df_friends = pd.DataFrame(columns=['main_id','level_friend','id_friend','first_name','last_name'])"
      ],
      "id": "ba9205d5"
    },
    {
      "cell_type": "code",
      "execution_count": 4,
      "metadata": {
        "id": "_u7X9dNaz65K"
      },
      "outputs": [],
      "source": [
        "CURPATH = 'drive/MyDrive/parts'\n",
        "\n",
        "for part in os.listdir(CURPATH):\n",
        "    df_friends = df_friends.append( pd.read_csv( '/'.join(( CURPATH, part )) ) )"
      ],
      "id": "_u7X9dNaz65K"
    },
    {
      "cell_type": "code",
      "execution_count": 5,
      "metadata": {
        "colab": {
          "base_uri": "https://localhost:8080/"
        },
        "id": "BzHYPX3s1PqK",
        "outputId": "1cf364a2-73e0-4d0b-a73e-5e148f2c84c7"
      },
      "outputs": [
        {
          "output_type": "execute_result",
          "data": {
            "text/plain": [
              "2019126"
            ]
          },
          "metadata": {},
          "execution_count": 5
        }
      ],
      "source": [
        "len(df_friends)"
      ],
      "id": "BzHYPX3s1PqK"
    },
    {
      "cell_type": "code",
      "execution_count": 6,
      "metadata": {
        "id": "oKIyTGb90GHV"
      },
      "outputs": [],
      "source": [
        "df_friends = df_friends.drop_duplicates()"
      ],
      "id": "oKIyTGb90GHV"
    },
    {
      "cell_type": "code",
      "execution_count": 7,
      "metadata": {
        "colab": {
          "base_uri": "https://localhost:8080/",
          "height": 424
        },
        "id": "wrlIaKbM09sg",
        "outputId": "a7272336-3083-4dfe-dfd5-2c682a12058b"
      },
      "outputs": [
        {
          "output_type": "execute_result",
          "data": {
            "text/plain": [
              "        main_id level_friend  id_friend first_name    last_name\n",
              "0     442387982            2  413144204  Alexandra    Zavodnova\n",
              "1     442387982            2  181948702     Andrey       Maslov\n",
              "2     442387982            2  271636767     Dmitry    Elesichev\n",
              "3     442387982            2  246816062   Germiona       Orlova\n",
              "4     442387982            2  440976960  Pangeleya   Atamankina\n",
              "...         ...          ...        ...        ...          ...\n",
              "2985  312616596            1  358526702      Valya  Novgorodova\n",
              "2986  312616596            1  326542225       Vika  Volkanitina\n",
              "2987  312616596            1   72207822     Viktor     Melnikov\n",
              "2988  312616596            1  474174041       Yury         Nano\n",
              "2989  312616596            1  295707677      Yusuf     Otabekov\n",
              "\n",
              "[1988851 rows x 5 columns]"
            ],
            "text/html": [
              "\n",
              "  <div id=\"df-dd9f4b63-faf1-4826-b761-1de24c927f2f\">\n",
              "    <div class=\"colab-df-container\">\n",
              "      <div>\n",
              "<style scoped>\n",
              "    .dataframe tbody tr th:only-of-type {\n",
              "        vertical-align: middle;\n",
              "    }\n",
              "\n",
              "    .dataframe tbody tr th {\n",
              "        vertical-align: top;\n",
              "    }\n",
              "\n",
              "    .dataframe thead th {\n",
              "        text-align: right;\n",
              "    }\n",
              "</style>\n",
              "<table border=\"1\" class=\"dataframe\">\n",
              "  <thead>\n",
              "    <tr style=\"text-align: right;\">\n",
              "      <th></th>\n",
              "      <th>main_id</th>\n",
              "      <th>level_friend</th>\n",
              "      <th>id_friend</th>\n",
              "      <th>first_name</th>\n",
              "      <th>last_name</th>\n",
              "    </tr>\n",
              "  </thead>\n",
              "  <tbody>\n",
              "    <tr>\n",
              "      <th>0</th>\n",
              "      <td>442387982</td>\n",
              "      <td>2</td>\n",
              "      <td>413144204</td>\n",
              "      <td>Alexandra</td>\n",
              "      <td>Zavodnova</td>\n",
              "    </tr>\n",
              "    <tr>\n",
              "      <th>1</th>\n",
              "      <td>442387982</td>\n",
              "      <td>2</td>\n",
              "      <td>181948702</td>\n",
              "      <td>Andrey</td>\n",
              "      <td>Maslov</td>\n",
              "    </tr>\n",
              "    <tr>\n",
              "      <th>2</th>\n",
              "      <td>442387982</td>\n",
              "      <td>2</td>\n",
              "      <td>271636767</td>\n",
              "      <td>Dmitry</td>\n",
              "      <td>Elesichev</td>\n",
              "    </tr>\n",
              "    <tr>\n",
              "      <th>3</th>\n",
              "      <td>442387982</td>\n",
              "      <td>2</td>\n",
              "      <td>246816062</td>\n",
              "      <td>Germiona</td>\n",
              "      <td>Orlova</td>\n",
              "    </tr>\n",
              "    <tr>\n",
              "      <th>4</th>\n",
              "      <td>442387982</td>\n",
              "      <td>2</td>\n",
              "      <td>440976960</td>\n",
              "      <td>Pangeleya</td>\n",
              "      <td>Atamankina</td>\n",
              "    </tr>\n",
              "    <tr>\n",
              "      <th>...</th>\n",
              "      <td>...</td>\n",
              "      <td>...</td>\n",
              "      <td>...</td>\n",
              "      <td>...</td>\n",
              "      <td>...</td>\n",
              "    </tr>\n",
              "    <tr>\n",
              "      <th>2985</th>\n",
              "      <td>312616596</td>\n",
              "      <td>1</td>\n",
              "      <td>358526702</td>\n",
              "      <td>Valya</td>\n",
              "      <td>Novgorodova</td>\n",
              "    </tr>\n",
              "    <tr>\n",
              "      <th>2986</th>\n",
              "      <td>312616596</td>\n",
              "      <td>1</td>\n",
              "      <td>326542225</td>\n",
              "      <td>Vika</td>\n",
              "      <td>Volkanitina</td>\n",
              "    </tr>\n",
              "    <tr>\n",
              "      <th>2987</th>\n",
              "      <td>312616596</td>\n",
              "      <td>1</td>\n",
              "      <td>72207822</td>\n",
              "      <td>Viktor</td>\n",
              "      <td>Melnikov</td>\n",
              "    </tr>\n",
              "    <tr>\n",
              "      <th>2988</th>\n",
              "      <td>312616596</td>\n",
              "      <td>1</td>\n",
              "      <td>474174041</td>\n",
              "      <td>Yury</td>\n",
              "      <td>Nano</td>\n",
              "    </tr>\n",
              "    <tr>\n",
              "      <th>2989</th>\n",
              "      <td>312616596</td>\n",
              "      <td>1</td>\n",
              "      <td>295707677</td>\n",
              "      <td>Yusuf</td>\n",
              "      <td>Otabekov</td>\n",
              "    </tr>\n",
              "  </tbody>\n",
              "</table>\n",
              "<p>1988851 rows × 5 columns</p>\n",
              "</div>\n",
              "      <button class=\"colab-df-convert\" onclick=\"convertToInteractive('df-dd9f4b63-faf1-4826-b761-1de24c927f2f')\"\n",
              "              title=\"Convert this dataframe to an interactive table.\"\n",
              "              style=\"display:none;\">\n",
              "        \n",
              "  <svg xmlns=\"http://www.w3.org/2000/svg\" height=\"24px\"viewBox=\"0 0 24 24\"\n",
              "       width=\"24px\">\n",
              "    <path d=\"M0 0h24v24H0V0z\" fill=\"none\"/>\n",
              "    <path d=\"M18.56 5.44l.94 2.06.94-2.06 2.06-.94-2.06-.94-.94-2.06-.94 2.06-2.06.94zm-11 1L8.5 8.5l.94-2.06 2.06-.94-2.06-.94L8.5 2.5l-.94 2.06-2.06.94zm10 10l.94 2.06.94-2.06 2.06-.94-2.06-.94-.94-2.06-.94 2.06-2.06.94z\"/><path d=\"M17.41 7.96l-1.37-1.37c-.4-.4-.92-.59-1.43-.59-.52 0-1.04.2-1.43.59L10.3 9.45l-7.72 7.72c-.78.78-.78 2.05 0 2.83L4 21.41c.39.39.9.59 1.41.59.51 0 1.02-.2 1.41-.59l7.78-7.78 2.81-2.81c.8-.78.8-2.07 0-2.86zM5.41 20L4 18.59l7.72-7.72 1.47 1.35L5.41 20z\"/>\n",
              "  </svg>\n",
              "      </button>\n",
              "      \n",
              "  <style>\n",
              "    .colab-df-container {\n",
              "      display:flex;\n",
              "      flex-wrap:wrap;\n",
              "      gap: 12px;\n",
              "    }\n",
              "\n",
              "    .colab-df-convert {\n",
              "      background-color: #E8F0FE;\n",
              "      border: none;\n",
              "      border-radius: 50%;\n",
              "      cursor: pointer;\n",
              "      display: none;\n",
              "      fill: #1967D2;\n",
              "      height: 32px;\n",
              "      padding: 0 0 0 0;\n",
              "      width: 32px;\n",
              "    }\n",
              "\n",
              "    .colab-df-convert:hover {\n",
              "      background-color: #E2EBFA;\n",
              "      box-shadow: 0px 1px 2px rgba(60, 64, 67, 0.3), 0px 1px 3px 1px rgba(60, 64, 67, 0.15);\n",
              "      fill: #174EA6;\n",
              "    }\n",
              "\n",
              "    [theme=dark] .colab-df-convert {\n",
              "      background-color: #3B4455;\n",
              "      fill: #D2E3FC;\n",
              "    }\n",
              "\n",
              "    [theme=dark] .colab-df-convert:hover {\n",
              "      background-color: #434B5C;\n",
              "      box-shadow: 0px 1px 3px 1px rgba(0, 0, 0, 0.15);\n",
              "      filter: drop-shadow(0px 1px 2px rgba(0, 0, 0, 0.3));\n",
              "      fill: #FFFFFF;\n",
              "    }\n",
              "  </style>\n",
              "\n",
              "      <script>\n",
              "        const buttonEl =\n",
              "          document.querySelector('#df-dd9f4b63-faf1-4826-b761-1de24c927f2f button.colab-df-convert');\n",
              "        buttonEl.style.display =\n",
              "          google.colab.kernel.accessAllowed ? 'block' : 'none';\n",
              "\n",
              "        async function convertToInteractive(key) {\n",
              "          const element = document.querySelector('#df-dd9f4b63-faf1-4826-b761-1de24c927f2f');\n",
              "          const dataTable =\n",
              "            await google.colab.kernel.invokeFunction('convertToInteractive',\n",
              "                                                     [key], {});\n",
              "          if (!dataTable) return;\n",
              "\n",
              "          const docLinkHtml = 'Like what you see? Visit the ' +\n",
              "            '<a target=\"_blank\" href=https://colab.research.google.com/notebooks/data_table.ipynb>data table notebook</a>'\n",
              "            + ' to learn more about interactive tables.';\n",
              "          element.innerHTML = '';\n",
              "          dataTable['output_type'] = 'display_data';\n",
              "          await google.colab.output.renderOutput(dataTable, element);\n",
              "          const docLink = document.createElement('div');\n",
              "          docLink.innerHTML = docLinkHtml;\n",
              "          element.appendChild(docLink);\n",
              "        }\n",
              "      </script>\n",
              "    </div>\n",
              "  </div>\n",
              "  "
            ]
          },
          "metadata": {},
          "execution_count": 7
        }
      ],
      "source": [
        "df_friends"
      ],
      "id": "wrlIaKbM09sg"
    },
    {
      "cell_type": "markdown",
      "metadata": {
        "id": "rLNwOGvZ1WM7"
      },
      "source": [
        "### Делаем граф в networkx"
      ],
      "id": "rLNwOGvZ1WM7"
    },
    {
      "cell_type": "code",
      "execution_count": 8,
      "metadata": {
        "id": "MDUMrCy31VOQ"
      },
      "outputs": [],
      "source": [
        "G = nx.Graph()"
      ],
      "id": "MDUMrCy31VOQ"
    },
    {
      "cell_type": "code",
      "execution_count": 11,
      "metadata": {
        "id": "6KZRx04o1pMF"
      },
      "outputs": [],
      "source": [
        "### нужно узнать id уникальных пользователей\n",
        "## добавляем вершины графа\n",
        "df_friends_short = df_friends.loc[ df_friends['level_friend'] == 1]\n",
        "\n",
        "G.add_nodes_from(set( df_friends_short['main_id'].unique()) | set(df_friends_short['id_friend'].unique()))"
      ],
      "id": "6KZRx04o1pMF"
    },
    {
      "cell_type": "code",
      "source": [
        "## добавляем ребра\n",
        "G.add_edges_from(df_friends_short[['main_id','id_friend']].values.tolist())"
      ],
      "metadata": {
        "id": "NnG6Auw8GwaC"
      },
      "id": "NnG6Auw8GwaC",
      "execution_count": 12,
      "outputs": []
    },
    {
      "cell_type": "markdown",
      "source": [
        "### Степень центральности"
      ],
      "metadata": {
        "id": "F82xM4J1ElnK"
      },
      "id": "F82xM4J1ElnK"
    },
    {
      "cell_type": "code",
      "execution_count": 13,
      "metadata": {
        "id": "57tGAvta2Id6"
      },
      "outputs": [],
      "source": [
        "deg_centrality = nx.degree_centrality(G)"
      ],
      "id": "57tGAvta2Id6"
    },
    {
      "cell_type": "code",
      "source": [
        "def getPeople ( centrality, count=5 ):\n",
        "    res_centrality = sorted(centrality.items(), key=lambda item: item[1], reverse=True)\n",
        "    return df_friends.loc[\n",
        "            df_friends.id_friend.isin(\n",
        "                    (item[0] for item in res_centrality[:count])\n",
        "                ), ['first_name', 'last_name']\n",
        "         ].drop_duplicates()"
      ],
      "metadata": {
        "id": "rLgdYPujcwvC"
      },
      "id": "rLgdYPujcwvC",
      "execution_count": 36,
      "outputs": []
    },
    {
      "cell_type": "code",
      "source": [
        "getPeople(deg_centrality)"
      ],
      "metadata": {
        "colab": {
          "base_uri": "https://localhost:8080/",
          "height": 206
        },
        "id": "FlBpLTBxFKdw",
        "outputId": "0bf5c69f-2bb1-46ec-920b-9409d054ee52"
      },
      "id": "FlBpLTBxFKdw",
      "execution_count": 37,
      "outputs": [
        {
          "output_type": "execute_result",
          "data": {
            "text/plain": [
              "      first_name   last_name\n",
              "2486     Gennady    Skakodub\n",
              "12059       Egor    Ruzaikin\n",
              "14733     Nikita   Skvortsov\n",
              "19859     Evgeny  Malinovsky\n",
              "38931    Mikhail   Nikiforov"
            ],
            "text/html": [
              "\n",
              "  <div id=\"df-1aab7ee6-6127-476b-ad9a-5e88eecc2860\">\n",
              "    <div class=\"colab-df-container\">\n",
              "      <div>\n",
              "<style scoped>\n",
              "    .dataframe tbody tr th:only-of-type {\n",
              "        vertical-align: middle;\n",
              "    }\n",
              "\n",
              "    .dataframe tbody tr th {\n",
              "        vertical-align: top;\n",
              "    }\n",
              "\n",
              "    .dataframe thead th {\n",
              "        text-align: right;\n",
              "    }\n",
              "</style>\n",
              "<table border=\"1\" class=\"dataframe\">\n",
              "  <thead>\n",
              "    <tr style=\"text-align: right;\">\n",
              "      <th></th>\n",
              "      <th>first_name</th>\n",
              "      <th>last_name</th>\n",
              "    </tr>\n",
              "  </thead>\n",
              "  <tbody>\n",
              "    <tr>\n",
              "      <th>2486</th>\n",
              "      <td>Gennady</td>\n",
              "      <td>Skakodub</td>\n",
              "    </tr>\n",
              "    <tr>\n",
              "      <th>12059</th>\n",
              "      <td>Egor</td>\n",
              "      <td>Ruzaikin</td>\n",
              "    </tr>\n",
              "    <tr>\n",
              "      <th>14733</th>\n",
              "      <td>Nikita</td>\n",
              "      <td>Skvortsov</td>\n",
              "    </tr>\n",
              "    <tr>\n",
              "      <th>19859</th>\n",
              "      <td>Evgeny</td>\n",
              "      <td>Malinovsky</td>\n",
              "    </tr>\n",
              "    <tr>\n",
              "      <th>38931</th>\n",
              "      <td>Mikhail</td>\n",
              "      <td>Nikiforov</td>\n",
              "    </tr>\n",
              "  </tbody>\n",
              "</table>\n",
              "</div>\n",
              "      <button class=\"colab-df-convert\" onclick=\"convertToInteractive('df-1aab7ee6-6127-476b-ad9a-5e88eecc2860')\"\n",
              "              title=\"Convert this dataframe to an interactive table.\"\n",
              "              style=\"display:none;\">\n",
              "        \n",
              "  <svg xmlns=\"http://www.w3.org/2000/svg\" height=\"24px\"viewBox=\"0 0 24 24\"\n",
              "       width=\"24px\">\n",
              "    <path d=\"M0 0h24v24H0V0z\" fill=\"none\"/>\n",
              "    <path d=\"M18.56 5.44l.94 2.06.94-2.06 2.06-.94-2.06-.94-.94-2.06-.94 2.06-2.06.94zm-11 1L8.5 8.5l.94-2.06 2.06-.94-2.06-.94L8.5 2.5l-.94 2.06-2.06.94zm10 10l.94 2.06.94-2.06 2.06-.94-2.06-.94-.94-2.06-.94 2.06-2.06.94z\"/><path d=\"M17.41 7.96l-1.37-1.37c-.4-.4-.92-.59-1.43-.59-.52 0-1.04.2-1.43.59L10.3 9.45l-7.72 7.72c-.78.78-.78 2.05 0 2.83L4 21.41c.39.39.9.59 1.41.59.51 0 1.02-.2 1.41-.59l7.78-7.78 2.81-2.81c.8-.78.8-2.07 0-2.86zM5.41 20L4 18.59l7.72-7.72 1.47 1.35L5.41 20z\"/>\n",
              "  </svg>\n",
              "      </button>\n",
              "      \n",
              "  <style>\n",
              "    .colab-df-container {\n",
              "      display:flex;\n",
              "      flex-wrap:wrap;\n",
              "      gap: 12px;\n",
              "    }\n",
              "\n",
              "    .colab-df-convert {\n",
              "      background-color: #E8F0FE;\n",
              "      border: none;\n",
              "      border-radius: 50%;\n",
              "      cursor: pointer;\n",
              "      display: none;\n",
              "      fill: #1967D2;\n",
              "      height: 32px;\n",
              "      padding: 0 0 0 0;\n",
              "      width: 32px;\n",
              "    }\n",
              "\n",
              "    .colab-df-convert:hover {\n",
              "      background-color: #E2EBFA;\n",
              "      box-shadow: 0px 1px 2px rgba(60, 64, 67, 0.3), 0px 1px 3px 1px rgba(60, 64, 67, 0.15);\n",
              "      fill: #174EA6;\n",
              "    }\n",
              "\n",
              "    [theme=dark] .colab-df-convert {\n",
              "      background-color: #3B4455;\n",
              "      fill: #D2E3FC;\n",
              "    }\n",
              "\n",
              "    [theme=dark] .colab-df-convert:hover {\n",
              "      background-color: #434B5C;\n",
              "      box-shadow: 0px 1px 3px 1px rgba(0, 0, 0, 0.15);\n",
              "      filter: drop-shadow(0px 1px 2px rgba(0, 0, 0, 0.3));\n",
              "      fill: #FFFFFF;\n",
              "    }\n",
              "  </style>\n",
              "\n",
              "      <script>\n",
              "        const buttonEl =\n",
              "          document.querySelector('#df-1aab7ee6-6127-476b-ad9a-5e88eecc2860 button.colab-df-convert');\n",
              "        buttonEl.style.display =\n",
              "          google.colab.kernel.accessAllowed ? 'block' : 'none';\n",
              "\n",
              "        async function convertToInteractive(key) {\n",
              "          const element = document.querySelector('#df-1aab7ee6-6127-476b-ad9a-5e88eecc2860');\n",
              "          const dataTable =\n",
              "            await google.colab.kernel.invokeFunction('convertToInteractive',\n",
              "                                                     [key], {});\n",
              "          if (!dataTable) return;\n",
              "\n",
              "          const docLinkHtml = 'Like what you see? Visit the ' +\n",
              "            '<a target=\"_blank\" href=https://colab.research.google.com/notebooks/data_table.ipynb>data table notebook</a>'\n",
              "            + ' to learn more about interactive tables.';\n",
              "          element.innerHTML = '';\n",
              "          dataTable['output_type'] = 'display_data';\n",
              "          await google.colab.output.renderOutput(dataTable, element);\n",
              "          const docLink = document.createElement('div');\n",
              "          docLink.innerHTML = docLinkHtml;\n",
              "          element.appendChild(docLink);\n",
              "        }\n",
              "      </script>\n",
              "    </div>\n",
              "  </div>\n",
              "  "
            ]
          },
          "metadata": {},
          "execution_count": 37
        }
      ]
    },
    {
      "cell_type": "markdown",
      "source": [
        "### Центральность по посредничеству"
      ],
      "metadata": {
        "id": "_5L6isoYI6d-"
      },
      "id": "_5L6isoYI6d-"
    },
    {
      "cell_type": "code",
      "source": [
        "bet_centrality = nx.betweenness_centrality(G, normalized = True, \n",
        "                                              endpoints = False)"
      ],
      "metadata": {
        "id": "mhLeTn_JF83B"
      },
      "id": "mhLeTn_JF83B",
      "execution_count": 38,
      "outputs": []
    },
    {
      "cell_type": "code",
      "source": [
        "getPeople(bet_centrality)"
      ],
      "metadata": {
        "colab": {
          "base_uri": "https://localhost:8080/",
          "height": 206
        },
        "id": "-3fiedAaHzYR",
        "outputId": "c9488fbc-d9b6-4be0-cdb3-d839db8027ba"
      },
      "id": "-3fiedAaHzYR",
      "execution_count": 39,
      "outputs": [
        {
          "output_type": "execute_result",
          "data": {
            "text/plain": [
              "      first_name   last_name\n",
              "1         Andrey      Maslov\n",
              "2486     Gennady    Skakodub\n",
              "2488        Igor  Kotilevets\n",
              "19859     Evgeny  Malinovsky\n",
              "38931    Mikhail   Nikiforov"
            ],
            "text/html": [
              "\n",
              "  <div id=\"df-39fedb00-5e3e-4828-b3aa-e0d975b04f44\">\n",
              "    <div class=\"colab-df-container\">\n",
              "      <div>\n",
              "<style scoped>\n",
              "    .dataframe tbody tr th:only-of-type {\n",
              "        vertical-align: middle;\n",
              "    }\n",
              "\n",
              "    .dataframe tbody tr th {\n",
              "        vertical-align: top;\n",
              "    }\n",
              "\n",
              "    .dataframe thead th {\n",
              "        text-align: right;\n",
              "    }\n",
              "</style>\n",
              "<table border=\"1\" class=\"dataframe\">\n",
              "  <thead>\n",
              "    <tr style=\"text-align: right;\">\n",
              "      <th></th>\n",
              "      <th>first_name</th>\n",
              "      <th>last_name</th>\n",
              "    </tr>\n",
              "  </thead>\n",
              "  <tbody>\n",
              "    <tr>\n",
              "      <th>1</th>\n",
              "      <td>Andrey</td>\n",
              "      <td>Maslov</td>\n",
              "    </tr>\n",
              "    <tr>\n",
              "      <th>2486</th>\n",
              "      <td>Gennady</td>\n",
              "      <td>Skakodub</td>\n",
              "    </tr>\n",
              "    <tr>\n",
              "      <th>2488</th>\n",
              "      <td>Igor</td>\n",
              "      <td>Kotilevets</td>\n",
              "    </tr>\n",
              "    <tr>\n",
              "      <th>19859</th>\n",
              "      <td>Evgeny</td>\n",
              "      <td>Malinovsky</td>\n",
              "    </tr>\n",
              "    <tr>\n",
              "      <th>38931</th>\n",
              "      <td>Mikhail</td>\n",
              "      <td>Nikiforov</td>\n",
              "    </tr>\n",
              "  </tbody>\n",
              "</table>\n",
              "</div>\n",
              "      <button class=\"colab-df-convert\" onclick=\"convertToInteractive('df-39fedb00-5e3e-4828-b3aa-e0d975b04f44')\"\n",
              "              title=\"Convert this dataframe to an interactive table.\"\n",
              "              style=\"display:none;\">\n",
              "        \n",
              "  <svg xmlns=\"http://www.w3.org/2000/svg\" height=\"24px\"viewBox=\"0 0 24 24\"\n",
              "       width=\"24px\">\n",
              "    <path d=\"M0 0h24v24H0V0z\" fill=\"none\"/>\n",
              "    <path d=\"M18.56 5.44l.94 2.06.94-2.06 2.06-.94-2.06-.94-.94-2.06-.94 2.06-2.06.94zm-11 1L8.5 8.5l.94-2.06 2.06-.94-2.06-.94L8.5 2.5l-.94 2.06-2.06.94zm10 10l.94 2.06.94-2.06 2.06-.94-2.06-.94-.94-2.06-.94 2.06-2.06.94z\"/><path d=\"M17.41 7.96l-1.37-1.37c-.4-.4-.92-.59-1.43-.59-.52 0-1.04.2-1.43.59L10.3 9.45l-7.72 7.72c-.78.78-.78 2.05 0 2.83L4 21.41c.39.39.9.59 1.41.59.51 0 1.02-.2 1.41-.59l7.78-7.78 2.81-2.81c.8-.78.8-2.07 0-2.86zM5.41 20L4 18.59l7.72-7.72 1.47 1.35L5.41 20z\"/>\n",
              "  </svg>\n",
              "      </button>\n",
              "      \n",
              "  <style>\n",
              "    .colab-df-container {\n",
              "      display:flex;\n",
              "      flex-wrap:wrap;\n",
              "      gap: 12px;\n",
              "    }\n",
              "\n",
              "    .colab-df-convert {\n",
              "      background-color: #E8F0FE;\n",
              "      border: none;\n",
              "      border-radius: 50%;\n",
              "      cursor: pointer;\n",
              "      display: none;\n",
              "      fill: #1967D2;\n",
              "      height: 32px;\n",
              "      padding: 0 0 0 0;\n",
              "      width: 32px;\n",
              "    }\n",
              "\n",
              "    .colab-df-convert:hover {\n",
              "      background-color: #E2EBFA;\n",
              "      box-shadow: 0px 1px 2px rgba(60, 64, 67, 0.3), 0px 1px 3px 1px rgba(60, 64, 67, 0.15);\n",
              "      fill: #174EA6;\n",
              "    }\n",
              "\n",
              "    [theme=dark] .colab-df-convert {\n",
              "      background-color: #3B4455;\n",
              "      fill: #D2E3FC;\n",
              "    }\n",
              "\n",
              "    [theme=dark] .colab-df-convert:hover {\n",
              "      background-color: #434B5C;\n",
              "      box-shadow: 0px 1px 3px 1px rgba(0, 0, 0, 0.15);\n",
              "      filter: drop-shadow(0px 1px 2px rgba(0, 0, 0, 0.3));\n",
              "      fill: #FFFFFF;\n",
              "    }\n",
              "  </style>\n",
              "\n",
              "      <script>\n",
              "        const buttonEl =\n",
              "          document.querySelector('#df-39fedb00-5e3e-4828-b3aa-e0d975b04f44 button.colab-df-convert');\n",
              "        buttonEl.style.display =\n",
              "          google.colab.kernel.accessAllowed ? 'block' : 'none';\n",
              "\n",
              "        async function convertToInteractive(key) {\n",
              "          const element = document.querySelector('#df-39fedb00-5e3e-4828-b3aa-e0d975b04f44');\n",
              "          const dataTable =\n",
              "            await google.colab.kernel.invokeFunction('convertToInteractive',\n",
              "                                                     [key], {});\n",
              "          if (!dataTable) return;\n",
              "\n",
              "          const docLinkHtml = 'Like what you see? Visit the ' +\n",
              "            '<a target=\"_blank\" href=https://colab.research.google.com/notebooks/data_table.ipynb>data table notebook</a>'\n",
              "            + ' to learn more about interactive tables.';\n",
              "          element.innerHTML = '';\n",
              "          dataTable['output_type'] = 'display_data';\n",
              "          await google.colab.output.renderOutput(dataTable, element);\n",
              "          const docLink = document.createElement('div');\n",
              "          docLink.innerHTML = docLinkHtml;\n",
              "          element.appendChild(docLink);\n",
              "        }\n",
              "      </script>\n",
              "    </div>\n",
              "  </div>\n",
              "  "
            ]
          },
          "metadata": {},
          "execution_count": 39
        }
      ]
    },
    {
      "cell_type": "markdown",
      "source": [
        "### Центральность по близости\n",
        "\n"
      ],
      "metadata": {
        "id": "C03c7Q1PZ78S"
      },
      "id": "C03c7Q1PZ78S"
    },
    {
      "cell_type": "code",
      "source": [
        "closeness_centrality = nx.closeness_centrality(G)\n",
        "getPeople(closeness_centrality)"
      ],
      "metadata": {
        "colab": {
          "base_uri": "https://localhost:8080/",
          "height": 206
        },
        "id": "x0CzdeN1ZpT8",
        "outputId": "7ac8aae1-38ab-4ff4-d4c4-8f7f45369020"
      },
      "id": "x0CzdeN1ZpT8",
      "execution_count": 40,
      "outputs": [
        {
          "output_type": "execute_result",
          "data": {
            "text/plain": [
              "      first_name   last_name\n",
              "2486     Gennady    Skakodub\n",
              "2488        Igor  Kotilevets\n",
              "2495      Leonid     Saburov\n",
              "19859     Evgeny  Malinovsky\n",
              "38931    Mikhail   Nikiforov"
            ],
            "text/html": [
              "\n",
              "  <div id=\"df-3aa1e41c-d77c-43aa-b700-86946d2b8c16\">\n",
              "    <div class=\"colab-df-container\">\n",
              "      <div>\n",
              "<style scoped>\n",
              "    .dataframe tbody tr th:only-of-type {\n",
              "        vertical-align: middle;\n",
              "    }\n",
              "\n",
              "    .dataframe tbody tr th {\n",
              "        vertical-align: top;\n",
              "    }\n",
              "\n",
              "    .dataframe thead th {\n",
              "        text-align: right;\n",
              "    }\n",
              "</style>\n",
              "<table border=\"1\" class=\"dataframe\">\n",
              "  <thead>\n",
              "    <tr style=\"text-align: right;\">\n",
              "      <th></th>\n",
              "      <th>first_name</th>\n",
              "      <th>last_name</th>\n",
              "    </tr>\n",
              "  </thead>\n",
              "  <tbody>\n",
              "    <tr>\n",
              "      <th>2486</th>\n",
              "      <td>Gennady</td>\n",
              "      <td>Skakodub</td>\n",
              "    </tr>\n",
              "    <tr>\n",
              "      <th>2488</th>\n",
              "      <td>Igor</td>\n",
              "      <td>Kotilevets</td>\n",
              "    </tr>\n",
              "    <tr>\n",
              "      <th>2495</th>\n",
              "      <td>Leonid</td>\n",
              "      <td>Saburov</td>\n",
              "    </tr>\n",
              "    <tr>\n",
              "      <th>19859</th>\n",
              "      <td>Evgeny</td>\n",
              "      <td>Malinovsky</td>\n",
              "    </tr>\n",
              "    <tr>\n",
              "      <th>38931</th>\n",
              "      <td>Mikhail</td>\n",
              "      <td>Nikiforov</td>\n",
              "    </tr>\n",
              "  </tbody>\n",
              "</table>\n",
              "</div>\n",
              "      <button class=\"colab-df-convert\" onclick=\"convertToInteractive('df-3aa1e41c-d77c-43aa-b700-86946d2b8c16')\"\n",
              "              title=\"Convert this dataframe to an interactive table.\"\n",
              "              style=\"display:none;\">\n",
              "        \n",
              "  <svg xmlns=\"http://www.w3.org/2000/svg\" height=\"24px\"viewBox=\"0 0 24 24\"\n",
              "       width=\"24px\">\n",
              "    <path d=\"M0 0h24v24H0V0z\" fill=\"none\"/>\n",
              "    <path d=\"M18.56 5.44l.94 2.06.94-2.06 2.06-.94-2.06-.94-.94-2.06-.94 2.06-2.06.94zm-11 1L8.5 8.5l.94-2.06 2.06-.94-2.06-.94L8.5 2.5l-.94 2.06-2.06.94zm10 10l.94 2.06.94-2.06 2.06-.94-2.06-.94-.94-2.06-.94 2.06-2.06.94z\"/><path d=\"M17.41 7.96l-1.37-1.37c-.4-.4-.92-.59-1.43-.59-.52 0-1.04.2-1.43.59L10.3 9.45l-7.72 7.72c-.78.78-.78 2.05 0 2.83L4 21.41c.39.39.9.59 1.41.59.51 0 1.02-.2 1.41-.59l7.78-7.78 2.81-2.81c.8-.78.8-2.07 0-2.86zM5.41 20L4 18.59l7.72-7.72 1.47 1.35L5.41 20z\"/>\n",
              "  </svg>\n",
              "      </button>\n",
              "      \n",
              "  <style>\n",
              "    .colab-df-container {\n",
              "      display:flex;\n",
              "      flex-wrap:wrap;\n",
              "      gap: 12px;\n",
              "    }\n",
              "\n",
              "    .colab-df-convert {\n",
              "      background-color: #E8F0FE;\n",
              "      border: none;\n",
              "      border-radius: 50%;\n",
              "      cursor: pointer;\n",
              "      display: none;\n",
              "      fill: #1967D2;\n",
              "      height: 32px;\n",
              "      padding: 0 0 0 0;\n",
              "      width: 32px;\n",
              "    }\n",
              "\n",
              "    .colab-df-convert:hover {\n",
              "      background-color: #E2EBFA;\n",
              "      box-shadow: 0px 1px 2px rgba(60, 64, 67, 0.3), 0px 1px 3px 1px rgba(60, 64, 67, 0.15);\n",
              "      fill: #174EA6;\n",
              "    }\n",
              "\n",
              "    [theme=dark] .colab-df-convert {\n",
              "      background-color: #3B4455;\n",
              "      fill: #D2E3FC;\n",
              "    }\n",
              "\n",
              "    [theme=dark] .colab-df-convert:hover {\n",
              "      background-color: #434B5C;\n",
              "      box-shadow: 0px 1px 3px 1px rgba(0, 0, 0, 0.15);\n",
              "      filter: drop-shadow(0px 1px 2px rgba(0, 0, 0, 0.3));\n",
              "      fill: #FFFFFF;\n",
              "    }\n",
              "  </style>\n",
              "\n",
              "      <script>\n",
              "        const buttonEl =\n",
              "          document.querySelector('#df-3aa1e41c-d77c-43aa-b700-86946d2b8c16 button.colab-df-convert');\n",
              "        buttonEl.style.display =\n",
              "          google.colab.kernel.accessAllowed ? 'block' : 'none';\n",
              "\n",
              "        async function convertToInteractive(key) {\n",
              "          const element = document.querySelector('#df-3aa1e41c-d77c-43aa-b700-86946d2b8c16');\n",
              "          const dataTable =\n",
              "            await google.colab.kernel.invokeFunction('convertToInteractive',\n",
              "                                                     [key], {});\n",
              "          if (!dataTable) return;\n",
              "\n",
              "          const docLinkHtml = 'Like what you see? Visit the ' +\n",
              "            '<a target=\"_blank\" href=https://colab.research.google.com/notebooks/data_table.ipynb>data table notebook</a>'\n",
              "            + ' to learn more about interactive tables.';\n",
              "          element.innerHTML = '';\n",
              "          dataTable['output_type'] = 'display_data';\n",
              "          await google.colab.output.renderOutput(dataTable, element);\n",
              "          const docLink = document.createElement('div');\n",
              "          docLink.innerHTML = docLinkHtml;\n",
              "          element.appendChild(docLink);\n",
              "        }\n",
              "      </script>\n",
              "    </div>\n",
              "  </div>\n",
              "  "
            ]
          },
          "metadata": {},
          "execution_count": 40
        }
      ]
    },
    {
      "cell_type": "markdown",
      "source": [
        "### Центральность по значению вектора\n",
        "\n"
      ],
      "metadata": {
        "id": "sTXhN2FOZ-ss"
      },
      "id": "sTXhN2FOZ-ss"
    },
    {
      "cell_type": "code",
      "source": [
        "eigenvector_centrality = nx.eigenvector_centrality_numpy(G)\n",
        "getPeople(eigenvector_centrality)"
      ],
      "metadata": {
        "colab": {
          "base_uri": "https://localhost:8080/",
          "height": 206
        },
        "id": "2Hub7beuZ5jB",
        "outputId": "f0530265-8faa-49df-c515-74a8d9205bd8"
      },
      "id": "2Hub7beuZ5jB",
      "execution_count": 41,
      "outputs": [
        {
          "output_type": "execute_result",
          "data": {
            "text/plain": [
              "      first_name   last_name\n",
              "2488        Igor  Kotilevets\n",
              "2495      Leonid     Saburov\n",
              "19859     Evgeny  Malinovsky\n",
              "20654    Timofey   Shafranov\n",
              "38931    Mikhail   Nikiforov"
            ],
            "text/html": [
              "\n",
              "  <div id=\"df-7da8a3f8-b368-47ac-b168-dbdf39f1da75\">\n",
              "    <div class=\"colab-df-container\">\n",
              "      <div>\n",
              "<style scoped>\n",
              "    .dataframe tbody tr th:only-of-type {\n",
              "        vertical-align: middle;\n",
              "    }\n",
              "\n",
              "    .dataframe tbody tr th {\n",
              "        vertical-align: top;\n",
              "    }\n",
              "\n",
              "    .dataframe thead th {\n",
              "        text-align: right;\n",
              "    }\n",
              "</style>\n",
              "<table border=\"1\" class=\"dataframe\">\n",
              "  <thead>\n",
              "    <tr style=\"text-align: right;\">\n",
              "      <th></th>\n",
              "      <th>first_name</th>\n",
              "      <th>last_name</th>\n",
              "    </tr>\n",
              "  </thead>\n",
              "  <tbody>\n",
              "    <tr>\n",
              "      <th>2488</th>\n",
              "      <td>Igor</td>\n",
              "      <td>Kotilevets</td>\n",
              "    </tr>\n",
              "    <tr>\n",
              "      <th>2495</th>\n",
              "      <td>Leonid</td>\n",
              "      <td>Saburov</td>\n",
              "    </tr>\n",
              "    <tr>\n",
              "      <th>19859</th>\n",
              "      <td>Evgeny</td>\n",
              "      <td>Malinovsky</td>\n",
              "    </tr>\n",
              "    <tr>\n",
              "      <th>20654</th>\n",
              "      <td>Timofey</td>\n",
              "      <td>Shafranov</td>\n",
              "    </tr>\n",
              "    <tr>\n",
              "      <th>38931</th>\n",
              "      <td>Mikhail</td>\n",
              "      <td>Nikiforov</td>\n",
              "    </tr>\n",
              "  </tbody>\n",
              "</table>\n",
              "</div>\n",
              "      <button class=\"colab-df-convert\" onclick=\"convertToInteractive('df-7da8a3f8-b368-47ac-b168-dbdf39f1da75')\"\n",
              "              title=\"Convert this dataframe to an interactive table.\"\n",
              "              style=\"display:none;\">\n",
              "        \n",
              "  <svg xmlns=\"http://www.w3.org/2000/svg\" height=\"24px\"viewBox=\"0 0 24 24\"\n",
              "       width=\"24px\">\n",
              "    <path d=\"M0 0h24v24H0V0z\" fill=\"none\"/>\n",
              "    <path d=\"M18.56 5.44l.94 2.06.94-2.06 2.06-.94-2.06-.94-.94-2.06-.94 2.06-2.06.94zm-11 1L8.5 8.5l.94-2.06 2.06-.94-2.06-.94L8.5 2.5l-.94 2.06-2.06.94zm10 10l.94 2.06.94-2.06 2.06-.94-2.06-.94-.94-2.06-.94 2.06-2.06.94z\"/><path d=\"M17.41 7.96l-1.37-1.37c-.4-.4-.92-.59-1.43-.59-.52 0-1.04.2-1.43.59L10.3 9.45l-7.72 7.72c-.78.78-.78 2.05 0 2.83L4 21.41c.39.39.9.59 1.41.59.51 0 1.02-.2 1.41-.59l7.78-7.78 2.81-2.81c.8-.78.8-2.07 0-2.86zM5.41 20L4 18.59l7.72-7.72 1.47 1.35L5.41 20z\"/>\n",
              "  </svg>\n",
              "      </button>\n",
              "      \n",
              "  <style>\n",
              "    .colab-df-container {\n",
              "      display:flex;\n",
              "      flex-wrap:wrap;\n",
              "      gap: 12px;\n",
              "    }\n",
              "\n",
              "    .colab-df-convert {\n",
              "      background-color: #E8F0FE;\n",
              "      border: none;\n",
              "      border-radius: 50%;\n",
              "      cursor: pointer;\n",
              "      display: none;\n",
              "      fill: #1967D2;\n",
              "      height: 32px;\n",
              "      padding: 0 0 0 0;\n",
              "      width: 32px;\n",
              "    }\n",
              "\n",
              "    .colab-df-convert:hover {\n",
              "      background-color: #E2EBFA;\n",
              "      box-shadow: 0px 1px 2px rgba(60, 64, 67, 0.3), 0px 1px 3px 1px rgba(60, 64, 67, 0.15);\n",
              "      fill: #174EA6;\n",
              "    }\n",
              "\n",
              "    [theme=dark] .colab-df-convert {\n",
              "      background-color: #3B4455;\n",
              "      fill: #D2E3FC;\n",
              "    }\n",
              "\n",
              "    [theme=dark] .colab-df-convert:hover {\n",
              "      background-color: #434B5C;\n",
              "      box-shadow: 0px 1px 3px 1px rgba(0, 0, 0, 0.15);\n",
              "      filter: drop-shadow(0px 1px 2px rgba(0, 0, 0, 0.3));\n",
              "      fill: #FFFFFF;\n",
              "    }\n",
              "  </style>\n",
              "\n",
              "      <script>\n",
              "        const buttonEl =\n",
              "          document.querySelector('#df-7da8a3f8-b368-47ac-b168-dbdf39f1da75 button.colab-df-convert');\n",
              "        buttonEl.style.display =\n",
              "          google.colab.kernel.accessAllowed ? 'block' : 'none';\n",
              "\n",
              "        async function convertToInteractive(key) {\n",
              "          const element = document.querySelector('#df-7da8a3f8-b368-47ac-b168-dbdf39f1da75');\n",
              "          const dataTable =\n",
              "            await google.colab.kernel.invokeFunction('convertToInteractive',\n",
              "                                                     [key], {});\n",
              "          if (!dataTable) return;\n",
              "\n",
              "          const docLinkHtml = 'Like what you see? Visit the ' +\n",
              "            '<a target=\"_blank\" href=https://colab.research.google.com/notebooks/data_table.ipynb>data table notebook</a>'\n",
              "            + ' to learn more about interactive tables.';\n",
              "          element.innerHTML = '';\n",
              "          dataTable['output_type'] = 'display_data';\n",
              "          await google.colab.output.renderOutput(dataTable, element);\n",
              "          const docLink = document.createElement('div');\n",
              "          docLink.innerHTML = docLinkHtml;\n",
              "          element.appendChild(docLink);\n",
              "        }\n",
              "      </script>\n",
              "    </div>\n",
              "  </div>\n",
              "  "
            ]
          },
          "metadata": {},
          "execution_count": 41
        }
      ]
    }
  ],
  "metadata": {
    "colab": {
      "provenance": [],
      "collapsed_sections": [],
      "include_colab_link": true
    },
    "kernelspec": {
      "display_name": "Python 3",
      "language": "python",
      "name": "python3"
    },
    "language_info": {
      "codemirror_mode": {
        "name": "ipython",
        "version": 3
      },
      "file_extension": ".py",
      "mimetype": "text/x-python",
      "name": "python",
      "nbconvert_exporter": "python",
      "pygments_lexer": "ipython3",
      "version": "3.7.5"
    }
  },
  "nbformat": 4,
  "nbformat_minor": 5
}